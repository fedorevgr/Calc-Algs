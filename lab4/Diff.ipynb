{
 "cells": [
  {
   "cell_type": "code",
   "execution_count": null,
   "id": "initial_id",
   "metadata": {
    "collapsed": true
   },
   "outputs": [],
   "source": [
    "from numpy.random import power\n",
    "\n",
    "from Mathing.UltraAntiderivator import Solve, Point\n",
    "from math import pow"
   ]
  },
  {
   "metadata": {},
   "cell_type": "code",
   "outputs": [],
   "execution_count": null,
   "source": [
    "def f(x: float, y: float) -> float:\n",
    "    return pow(x, 3) + pow(y, 3)\n",
    "\n",
    "def fDY(x: float, y: float) -> float:\n",
    "    return pow(y, 2) * 3"
   ],
   "id": "5433faf7cf7a794"
  },
  {
   "metadata": {},
   "cell_type": "code",
   "outputs": [],
   "execution_count": null,
   "source": "",
   "id": "cebc05ae5ab90890"
  },
  {
   "metadata": {},
   "cell_type": "code",
   "outputs": [],
   "execution_count": null,
   "source": [
    "N = 10\n",
    "solve = Solve(N, f, fDY, (Point(0, 1), Point(1, 3)))"
   ],
   "id": "d9c167db179bbf6f"
  }
 ],
 "metadata": {
  "kernelspec": {
   "display_name": "Python 3",
   "language": "python",
   "name": "python3"
  },
  "language_info": {
   "codemirror_mode": {
    "name": "ipython",
    "version": 2
   },
   "file_extension": ".py",
   "mimetype": "text/x-python",
   "name": "python",
   "nbconvert_exporter": "python",
   "pygments_lexer": "ipython2",
   "version": "2.7.6"
  }
 },
 "nbformat": 4,
 "nbformat_minor": 5
}
