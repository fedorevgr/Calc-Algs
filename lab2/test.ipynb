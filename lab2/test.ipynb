{
 "cells": [
  {
   "cell_type": "code",
   "id": "initial_id",
   "metadata": {
    "collapsed": true,
    "ExecuteTime": {
     "end_time": "2025-03-05T12:55:24.704500Z",
     "start_time": "2025-03-05T12:55:24.701497Z"
    }
   },
   "source": [
    "from matplotlib import pyplot as plt\n",
    "from pandas import DataFrame\n",
    "from src.Math.Spline import SplineInterpolation\n",
    "from numpy import linspace, sin"
   ],
   "outputs": [],
   "execution_count": 17
  },
  {
   "metadata": {
    "ExecuteTime": {
     "end_time": "2025-03-05T12:55:24.723228Z",
     "start_time": "2025-03-05T12:55:24.721021Z"
    }
   },
   "cell_type": "code",
   "source": "func = lambda x: x ** 2",
   "id": "2b7f51c0a6bdbc44",
   "outputs": [],
   "execution_count": 18
  },
  {
   "metadata": {
    "ExecuteTime": {
     "end_time": "2025-03-05T12:55:24.735275Z",
     "start_time": "2025-03-05T12:55:24.733383Z"
    }
   },
   "cell_type": "code",
   "source": [
    "LEFT = 0\n",
    "RIGHT = 10"
   ],
   "id": "117bbd22c70800c3",
   "outputs": [],
   "execution_count": 19
  },
  {
   "metadata": {
    "ExecuteTime": {
     "end_time": "2025-03-05T12:55:24.746539Z",
     "start_time": "2025-03-05T12:55:24.743097Z"
    }
   },
   "cell_type": "code",
   "source": [
    "TEST_SEG = 4\n",
    "\n",
    "X = linspace(LEFT, RIGHT, TEST_SEG)\n",
    "srcData = {\n",
    "    \"x\": X,\n",
    "    \"y\": list(map(func, X))\n",
    "}\n",
    "\n",
    "data = DataFrame(srcData)\n",
    "print(data)"
   ],
   "id": "ce3861ffa8ab1ad7",
   "outputs": [
    {
     "name": "stdout",
     "output_type": "stream",
     "text": [
      "           x           y\n",
      "0   0.000000    0.000000\n",
      "1   3.333333   11.111111\n",
      "2   6.666667   44.444444\n",
      "3  10.000000  100.000000\n"
     ]
    }
   ],
   "execution_count": 20
  },
  {
   "metadata": {
    "ExecuteTime": {
     "end_time": "2025-03-05T12:55:24.820201Z",
     "start_time": "2025-03-05T12:55:24.813439Z"
    }
   },
   "cell_type": "code",
   "source": "spline = SplineInterpolation(data)",
   "id": "d462981ce7c1f578",
   "outputs": [],
   "execution_count": 21
  },
  {
   "metadata": {
    "ExecuteTime": {
     "end_time": "2025-03-05T12:55:24.856158Z",
     "start_time": "2025-03-05T12:55:24.829056Z"
    }
   },
   "cell_type": "code",
   "source": [
    "X = linspace(LEFT, RIGHT, 200)\n",
    "Y = list(map(spline, X))"
   ],
   "id": "7a6d5c05953b396d",
   "outputs": [],
   "execution_count": 22
  },
  {
   "metadata": {
    "ExecuteTime": {
     "end_time": "2025-03-05T12:55:24.894795Z",
     "start_time": "2025-03-05T12:55:24.863121Z"
    }
   },
   "cell_type": "code",
   "source": [
    "plt.scatter(data[\"x\"], data[\"y\"])\n",
    "plt.plot(X, Y)\n",
    "plt.show()"
   ],
   "id": "384fb09614d7ad4",
   "outputs": [
    {
     "data": {
      "text/plain": [
       "<Figure size 640x480 with 1 Axes>"
      ],
      "image/png": "[encoded data removed]"
     },
     "metadata": {},
     "output_type": "display_data"
    }
   ],
   "execution_count": 23
  },
  {
   "metadata": {
    "ExecuteTime": {
     "end_time": "2025-03-05T12:55:24.904475Z",
     "start_time": "2025-03-05T12:55:24.900558Z"
    }
   },
   "cell_type": "code",
   "source": "print(spline.spline)",
   "id": "8013c73b14b31f83",
   "outputs": [
    {
     "name": "stdout",
     "output_type": "stream",
     "text": [
      "        x_i        y_i       h_i          A   B    C   D     F         k    n\n",
      "0       NaN        NaN       NaN        NaN NaN  0.0 NaN   NaN       NaN  NaN\n",
      "1  0.000000   0.000000  3.333333   0.000000 NaN  NaN NaN   NaN       NaN  NaN\n",
      "2  3.333333  11.111111  3.333333  11.111111 NaN  NaN NaN -20.0  0.000000  0.0\n",
      "3  6.666667  44.444444  3.333333  44.444444 NaN  NaN NaN -20.0 -0.250000  NaN\n",
      "4       NaN        NaN       NaN        NaN NaN  0.0 NaN   NaN -0.266667  NaN\n"
     ]
    }
   ],
   "execution_count": 24
  },
  {
   "metadata": {
    "ExecuteTime": {
     "end_time": "2025-03-05T12:55:24.912107Z",
     "start_time": "2025-03-05T12:55:24.910794Z"
    }
   },
   "cell_type": "code",
   "source": "",
   "id": "b55d27f495c2053f",
   "outputs": [],
   "execution_count": null
  }
 ],
 "metadata": {
  "kernelspec": {
   "display_name": "Python 3",
   "language": "python",
   "name": "python3"
  },
  "language_info": {
   "codemirror_mode": {
    "name": "ipython",
    "version": 2
   },
   "file_extension": ".py",
   "mimetype": "text/x-python",
   "name": "python",
   "nbconvert_exporter": "python",
   "pygments_lexer": "ipython2",
   "version": "2.7.6"
  }
 },
 "nbformat": 4,
 "nbformat_minor": 5
}
