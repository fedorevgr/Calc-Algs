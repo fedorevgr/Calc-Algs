{
 "cells": [
  {
   "cell_type": "code",
   "id": "initial_id",
   "metadata": {
    "collapsed": true,
    "ExecuteTime": {
     "end_time": "2025-04-05T07:30:43.302328Z",
     "start_time": "2025-04-05T07:30:43.002922Z"
    }
   },
   "source": [
    "from Mathing.SuperIntegrator import Solver\n",
    "from math import pow, exp, sqrt, pi\n",
    "from numpy import linspace\n",
    "from matplotlib import pyplot as plt"
   ],
   "outputs": [],
   "execution_count": 1
  },
  {
   "metadata": {
    "ExecuteTime": {
     "end_time": "2025-04-05T07:30:43.307670Z",
     "start_time": "2025-04-05T07:30:43.305662Z"
    }
   },
   "cell_type": "code",
   "source": [
    "def f(x: float) -> float:\n",
    "\treturn exp(-1 * pow(x, 2) / 2) * 2 / sqrt(2 * pi)"
   ],
   "id": "70148d253ad8084f",
   "outputs": [],
   "execution_count": 2
  },
  {
   "metadata": {
    "ExecuteTime": {
     "end_time": "2025-04-05T07:30:43.396310Z",
     "start_time": "2025-04-05T07:30:43.393984Z"
    }
   },
   "cell_type": "code",
   "source": [
    "solver = Solver(f)\n",
    "LOWER_BOUND = 0\n"
   ],
   "id": "c2712fa71e9cc24e",
   "outputs": [],
   "execution_count": 3
  },
  {
   "metadata": {
    "ExecuteTime": {
     "end_time": "2025-04-05T07:30:43.403669Z",
     "start_time": "2025-04-05T07:30:43.402108Z"
    }
   },
   "cell_type": "code",
   "source": "#solver.simpson(-100, 100)",
   "id": "ac7bde5a4c587aa9",
   "outputs": [],
   "execution_count": 4
  },
  {
   "metadata": {
    "ExecuteTime": {
     "end_time": "2025-04-05T07:30:43.412581Z",
     "start_time": "2025-04-05T07:30:43.410369Z"
    }
   },
   "cell_type": "code",
   "source": "#solver.trapezes(-100, 100)",
   "id": "6fa64bb60cb48f5c",
   "outputs": [],
   "execution_count": 5
  },
  {
   "metadata": {
    "ExecuteTime": {
     "end_time": "2025-04-05T07:32:48.676395Z",
     "start_time": "2025-04-05T07:32:47.510603Z"
    }
   },
   "cell_type": "code",
   "source": [
    "solver.STEP = 1e-5\n",
    "\n",
    "solver.solve(LOWER_BOUND, 0.56, (0, 2), solver.simpson)"
   ],
   "id": "558765a90e9b867",
   "outputs": [
    {
     "data": {
      "text/plain": [
       "0.7721800003200769"
      ]
     },
     "execution_count": 8,
     "metadata": {},
     "output_type": "execute_result"
    }
   ],
   "execution_count": 8
  },
  {
   "metadata": {
    "ExecuteTime": {
     "end_time": "2025-04-05T07:30:56.049659Z",
     "start_time": "2025-04-05T07:30:44.124219Z"
    }
   },
   "cell_type": "code",
   "source": [
    "X = linspace(-10, 10, 100)\n",
    "plt.plot(X, [solver.trapezes(LOWER_BOUND, x)  for x in X])\n",
    "\n",
    "# plt.plot(X, [solver.simpson(LOWER_BOUND, x) for x in X])"
   ],
   "id": "2850dc8f60e5892d",
   "outputs": [
    {
     "ename": "KeyboardInterrupt",
     "evalue": "",
     "output_type": "error",
     "traceback": [
      "\u001B[31m---------------------------------------------------------------------------\u001B[39m",
      "\u001B[31mKeyboardInterrupt\u001B[39m                         Traceback (most recent call last)",
      "\u001B[36mCell\u001B[39m\u001B[36m \u001B[39m\u001B[32mIn[7]\u001B[39m\u001B[32m, line 3\u001B[39m\n\u001B[32m      1\u001B[39m X = linspace(-\u001B[32m10\u001B[39m, \u001B[32m10\u001B[39m, \u001B[32m100\u001B[39m)\n\u001B[32m      2\u001B[39m plt.plot(X, [solver.trapezes(LOWER_BOUND, x)  \u001B[38;5;28;01mfor\u001B[39;00m x \u001B[38;5;129;01min\u001B[39;00m X])\n\u001B[32m----> \u001B[39m\u001B[32m3\u001B[39m plt.plot(X, [\u001B[43msolver\u001B[49m\u001B[43m.\u001B[49m\u001B[43msimpson\u001B[49m\u001B[43m(\u001B[49m\u001B[43mLOWER_BOUND\u001B[49m\u001B[43m,\u001B[49m\u001B[43m \u001B[49m\u001B[43mx\u001B[49m\u001B[43m)\u001B[49m \u001B[38;5;28;01mfor\u001B[39;00m x \u001B[38;5;129;01min\u001B[39;00m X])\n",
      "\u001B[36mFile \u001B[39m\u001B[32m~/Documents/University/Semester_3/Algorithms/lab4/Mathing/SuperIntegrator.py:32\u001B[39m, in \u001B[36mSolver.simpson\u001B[39m\u001B[34m(self, a, b)\u001B[39m\n\u001B[32m     30\u001B[39m step: \u001B[38;5;28mfloat\u001B[39m = \u001B[38;5;28mself\u001B[39m.STEP * sign(b - a)\n\u001B[32m     31\u001B[39m args: ndarray[\u001B[38;5;28mfloat\u001B[39m] = arange(a, b + step, step, dtype=\u001B[38;5;28mfloat\u001B[39m)\n\u001B[32m---> \u001B[39m\u001B[32m32\u001B[39m vals: ndarray[\u001B[38;5;28mfloat\u001B[39m] = \u001B[43mvectorize\u001B[49m\u001B[43m(\u001B[49m\u001B[38;5;28;43mself\u001B[39;49m\u001B[43m.\u001B[49m\u001B[43mfunc\u001B[49m\u001B[43m)\u001B[49m\u001B[43m(\u001B[49m\u001B[43margs\u001B[49m\u001B[43m)\u001B[49m\n\u001B[32m     34\u001B[39m \u001B[38;5;28;01mreturn\u001B[39;00m step * (\n\u001B[32m     35\u001B[39m \t\u001B[38;5;28mself\u001B[39m.func(a) +\n\u001B[32m     36\u001B[39m \t\u001B[32m2\u001B[39m * \u001B[38;5;28msum\u001B[39m(\u001B[38;5;28mmap\u001B[39m(\u001B[38;5;28mself\u001B[39m.func, args[\u001B[32m2\u001B[39m::\u001B[32m2\u001B[39m])) +\n\u001B[32m     37\u001B[39m \t\u001B[32m4\u001B[39m * \u001B[38;5;28msum\u001B[39m(\u001B[38;5;28mmap\u001B[39m(\u001B[38;5;28mself\u001B[39m.func, args[\u001B[32m1\u001B[39m::\u001B[32m2\u001B[39m])) +\n\u001B[32m     38\u001B[39m \t\u001B[38;5;28mself\u001B[39m.func(b)\n\u001B[32m     39\u001B[39m ) / \u001B[32m3\u001B[39m\n",
      "\u001B[36mFile \u001B[39m\u001B[32m/Library/Frameworks/Python.framework/Versions/3.13/lib/python3.13/site-packages/numpy/lib/_function_base_impl.py:2522\u001B[39m, in \u001B[36mvectorize.__call__\u001B[39m\u001B[34m(self, *args, **kwargs)\u001B[39m\n\u001B[32m   2519\u001B[39m     \u001B[38;5;28mself\u001B[39m._init_stage_2(*args, **kwargs)\n\u001B[32m   2520\u001B[39m     \u001B[38;5;28;01mreturn\u001B[39;00m \u001B[38;5;28mself\u001B[39m\n\u001B[32m-> \u001B[39m\u001B[32m2522\u001B[39m \u001B[38;5;28;01mreturn\u001B[39;00m \u001B[38;5;28;43mself\u001B[39;49m\u001B[43m.\u001B[49m\u001B[43m_call_as_normal\u001B[49m\u001B[43m(\u001B[49m\u001B[43m*\u001B[49m\u001B[43margs\u001B[49m\u001B[43m,\u001B[49m\u001B[43m \u001B[49m\u001B[43m*\u001B[49m\u001B[43m*\u001B[49m\u001B[43mkwargs\u001B[49m\u001B[43m)\u001B[49m\n",
      "\u001B[36mFile \u001B[39m\u001B[32m/Library/Frameworks/Python.framework/Versions/3.13/lib/python3.13/site-packages/numpy/lib/_function_base_impl.py:2515\u001B[39m, in \u001B[36mvectorize._call_as_normal\u001B[39m\u001B[34m(self, *args, **kwargs)\u001B[39m\n\u001B[32m   2512\u001B[39m     vargs = [args[_i] \u001B[38;5;28;01mfor\u001B[39;00m _i \u001B[38;5;129;01min\u001B[39;00m inds]\n\u001B[32m   2513\u001B[39m     vargs.extend([kwargs[_n] \u001B[38;5;28;01mfor\u001B[39;00m _n \u001B[38;5;129;01min\u001B[39;00m names])\n\u001B[32m-> \u001B[39m\u001B[32m2515\u001B[39m \u001B[38;5;28;01mreturn\u001B[39;00m \u001B[38;5;28;43mself\u001B[39;49m\u001B[43m.\u001B[49m\u001B[43m_vectorize_call\u001B[49m\u001B[43m(\u001B[49m\u001B[43mfunc\u001B[49m\u001B[43m=\u001B[49m\u001B[43mfunc\u001B[49m\u001B[43m,\u001B[49m\u001B[43m \u001B[49m\u001B[43margs\u001B[49m\u001B[43m=\u001B[49m\u001B[43mvargs\u001B[49m\u001B[43m)\u001B[49m\n",
      "\u001B[36mFile \u001B[39m\u001B[32m/Library/Frameworks/Python.framework/Versions/3.13/lib/python3.13/site-packages/numpy/lib/_function_base_impl.py:2605\u001B[39m, in \u001B[36mvectorize._vectorize_call\u001B[39m\u001B[34m(self, func, args)\u001B[39m\n\u001B[32m   2602\u001B[39m \u001B[38;5;66;03m# Convert args to object arrays first\u001B[39;00m\n\u001B[32m   2603\u001B[39m inputs = [asanyarray(a, dtype=\u001B[38;5;28mobject\u001B[39m) \u001B[38;5;28;01mfor\u001B[39;00m a \u001B[38;5;129;01min\u001B[39;00m args]\n\u001B[32m-> \u001B[39m\u001B[32m2605\u001B[39m outputs = \u001B[43mufunc\u001B[49m\u001B[43m(\u001B[49m\u001B[43m*\u001B[49m\u001B[43minputs\u001B[49m\u001B[43m)\u001B[49m\n\u001B[32m   2607\u001B[39m \u001B[38;5;28;01mif\u001B[39;00m ufunc.nout == \u001B[32m1\u001B[39m:\n\u001B[32m   2608\u001B[39m     res = asanyarray(outputs, dtype=otypes[\u001B[32m0\u001B[39m])\n",
      "\u001B[36mCell\u001B[39m\u001B[36m \u001B[39m\u001B[32mIn[2]\u001B[39m\u001B[32m, line 2\u001B[39m, in \u001B[36mf\u001B[39m\u001B[34m(x)\u001B[39m\n\u001B[32m      1\u001B[39m \u001B[38;5;28;01mdef\u001B[39;00m\u001B[38;5;250m \u001B[39m\u001B[34mf\u001B[39m(x: \u001B[38;5;28mfloat\u001B[39m) -> \u001B[38;5;28mfloat\u001B[39m:\n\u001B[32m----> \u001B[39m\u001B[32m2\u001B[39m \t\u001B[38;5;28;01mreturn\u001B[39;00m exp(-\u001B[32m1\u001B[39m * \u001B[38;5;28mpow\u001B[39m(x, \u001B[32m2\u001B[39m) / \u001B[32m2\u001B[39m) * \u001B[32m2\u001B[39m / \u001B[43msqrt\u001B[49m\u001B[43m(\u001B[49m\u001B[32;43m2\u001B[39;49m\u001B[43m \u001B[49m\u001B[43m*\u001B[49m\u001B[43m \u001B[49m\u001B[43mpi\u001B[49m\u001B[43m)\u001B[49m\n",
      "\u001B[31mKeyboardInterrupt\u001B[39m: "
     ]
    },
    {
     "data": {
      "text/plain": [
       "<Figure size 640x480 with 1 Axes>"
      ],
      "image/png": "[encoded data removed]"
     },
     "metadata": {},
     "output_type": "display_data"
    }
   ],
   "execution_count": 7
  }
 ],
 "metadata": {
  "kernelspec": {
   "display_name": "Python 3",
   "language": "python",
   "name": "python3"
  },
  "language_info": {
   "codemirror_mode": {
    "name": "ipython",
    "version": 2
   },
   "file_extension": ".py",
   "mimetype": "text/x-python",
   "name": "python",
   "nbconvert_exporter": "python",
   "pygments_lexer": "ipython2",
   "version": "2.7.6"
  }
 },
 "nbformat": 4,
 "nbformat_minor": 5
}
