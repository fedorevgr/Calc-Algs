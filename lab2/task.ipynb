{
 "cells": [
  {
   "cell_type": "code",
   "id": "initial_id",
   "metadata": {
    "collapsed": true,
    "ExecuteTime": {
     "end_time": "2025-03-15T08:35:01.411624Z",
     "start_time": "2025-03-15T08:35:01.183096Z"
    }
   },
   "source": [
    "from math import exp\n",
    "from pprint import pprint\n",
    "from numpy import linspace\n",
    "\n",
    "from src.Multydimetia import MultidimensionalInterpolatorInator as MII\n",
    "from src.Multydimetia import Method"
   ],
   "outputs": [],
   "execution_count": 1
  },
  {
   "metadata": {
    "ExecuteTime": {
     "end_time": "2025-03-15T08:35:01.655483Z",
     "start_time": "2025-03-15T08:35:01.414706Z"
    }
   },
   "cell_type": "code",
   "source": "from matplotlib import pyplot as plt",
   "id": "941f8a03db76ac0c",
   "outputs": [],
   "execution_count": 2
  },
  {
   "metadata": {
    "ExecuteTime": {
     "end_time": "2025-03-15T08:35:01.739721Z",
     "start_time": "2025-03-15T08:35:01.737679Z"
    }
   },
   "cell_type": "code",
   "source": [
    "\n",
    "def FUNCTION(x, y, z):\n",
    "    return x + y + z # exp(-(x*x + y*y + z*z))\n",
    "\n",
    "def f(x):\n",
    "    return x\n"
   ],
   "id": "621cb275f313be3b",
   "outputs": [],
   "execution_count": 3
  },
  {
   "metadata": {
    "ExecuteTime": {
     "end_time": "2025-03-15T08:35:01.754656Z",
     "start_time": "2025-03-15T08:35:01.744204Z"
    }
   },
   "cell_type": "code",
   "source": [
    "taskValues: dict[float, dict[float, ...]] = {}\n",
    "\n",
    "xValues = linspace(-1, 1, 20)\n",
    "yValues = linspace(-1, 4, 50)\n",
    "zValues = linspace(-1, 2, 30)\n",
    "\n",
    "for z in zValues:\n",
    "    taskValues[z] = {}\n",
    "    for y in yValues:\n",
    "        taskValues[z][y] = {}\n",
    "        for x in xValues:\n",
    "            fVal = FUNCTION(x, y, z)\n",
    "            taskValues[z][y][x] = fVal\n"
   ],
   "id": "813f40a2acf5e78e",
   "outputs": [],
   "execution_count": 4
  },
  {
   "metadata": {
    "ExecuteTime": {
     "end_time": "2025-03-15T08:35:01.764553Z",
     "start_time": "2025-03-15T08:35:01.762446Z"
    }
   },
   "cell_type": "code",
   "source": [
    "vector = [0.152, 0, 0.1]\n",
    "print(FUNCTION(*vector))\n",
    "vector.reverse()\n",
    "print(vector)"
   ],
   "id": "9bfe9386790eaffd",
   "outputs": [
    {
     "name": "stdout",
     "output_type": "stream",
     "text": [
      "0.252\n",
      "[0.1, 0, 0.152]\n"
     ]
    }
   ],
   "execution_count": 5
  },
  {
   "metadata": {
    "ExecuteTime": {
     "end_time": "2025-03-15T08:35:11.912840Z",
     "start_time": "2025-03-15T08:35:01.835880Z"
    }
   },
   "cell_type": "code",
   "source": [
    "pprint(MII.interp(taskValues, vector, Method.Spline))\n",
    "pprint(MII.interp(taskValues, vector, Method.Newton, 3))\n",
    "pprint(MII.interp(taskValues, vector, Method.Newton, 1))"
   ],
   "id": "6eac4ce3f693219f",
   "outputs": [
    {
     "name": "stdout",
     "output_type": "stream",
     "text": [
      "np.float64(0.304)\n",
      "np.float64(0.304)\n",
      "np.float64(0.30400000000000005)\n"
     ]
    }
   ],
   "execution_count": 6
  },
  {
   "metadata": {
    "ExecuteTime": {
     "end_time": "2025-03-15T08:35:11.919545Z",
     "start_time": "2025-03-15T08:35:11.918172Z"
    }
   },
   "cell_type": "code",
   "source": "",
   "id": "3c7c946c408c4a72",
   "outputs": [],
   "execution_count": null
  },
  {
   "metadata": {},
   "cell_type": "markdown",
   "source": "",
   "id": "ff2baf4d08194d90"
  },
  {
   "metadata": {
    "ExecuteTime": {
     "end_time": "2025-03-15T08:35:11.928117Z",
     "start_time": "2025-03-15T08:35:11.926465Z"
    }
   },
   "cell_type": "code",
   "source": "",
   "id": "33a159b19a7e6bca",
   "outputs": [],
   "execution_count": null
  }
 ],
 "metadata": {
  "kernelspec": {
   "display_name": "Python 3",
   "language": "python",
   "name": "python3"
  },
  "language_info": {
   "codemirror_mode": {
    "name": "ipython",
    "version": 2
   },
   "file_extension": ".py",
   "mimetype": "text/x-python",
   "name": "python",
   "nbconvert_exporter": "python",
   "pygments_lexer": "ipython2",
   "version": "2.7.6"
  }
 },
 "nbformat": 4,
 "nbformat_minor": 5
}
