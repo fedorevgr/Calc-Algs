{
 "cells": [
  {
   "metadata": {
    "ExecuteTime": {
     "end_time": "2025-03-29T08:36:52.018564Z",
     "start_time": "2025-03-29T08:36:52.014010Z"
    }
   },
   "cell_type": "code",
   "source": [
    "from docutils.nodes import label\n",
    "from matplotlib import pyplot as plt\n",
    "from pandas import DataFrame, read_table\n",
    "from QuadraticAprox.LDE import Approx\n",
    "from numpy import linspace, exp, sqrt, pi, dot\n",
    "from math import erf, isclose"
   ],
   "id": "75f421c8c395cd35",
   "outputs": [],
   "execution_count": 65
  },
  {
   "metadata": {
    "ExecuteTime": {
     "end_time": "2025-03-29T08:36:52.027369Z",
     "start_time": "2025-03-29T08:36:52.024781Z"
    }
   },
   "cell_type": "code",
   "source": [
    "points = linspace(0, 1, 10)\n",
    "N = 6"
   ],
   "id": "9e74c11e3ccc1428",
   "outputs": [],
   "execution_count": 66
  },
  {
   "metadata": {
    "ExecuteTime": {
     "end_time": "2025-03-29T08:36:52.047741Z",
     "start_time": "2025-03-29T08:36:52.043304Z"
    }
   },
   "cell_type": "code",
   "source": "approx = Approx(points, N, p=lambda x:x, g=lambda x:1, f=lambda x:2*x)",
   "id": "5c3787529df0cca9",
   "outputs": [],
   "execution_count": 67
  },
  {
   "metadata": {
    "ExecuteTime": {
     "end_time": "2025-03-29T08:36:52.060045Z",
     "start_time": "2025-03-29T08:36:52.057617Z"
    }
   },
   "cell_type": "code",
   "source": "approx.coefficients()",
   "id": "1d058952d63c0d92",
   "outputs": [
    {
     "data": {
      "text/plain": [
       "array([-0.72712777, -1.22706929,  0.29032974,  0.35027185, -0.12194872,\n",
       "       -0.00448638])"
      ]
     },
     "execution_count": 68,
     "metadata": {},
     "output_type": "execute_result"
    }
   ],
   "execution_count": 68
  },
  {
   "metadata": {
    "ExecuteTime": {
     "end_time": "2025-03-29T08:36:52.072385Z",
     "start_time": "2025-03-29T08:36:52.070256Z"
    }
   },
   "cell_type": "code",
   "source": "plotPoints = linspace(-3, 3, 100)",
   "id": "a2220c3b2f62845b",
   "outputs": [],
   "execution_count": 69
  },
  {
   "metadata": {
    "ExecuteTime": {
     "end_time": "2025-03-29T08:36:52.129809Z",
     "start_time": "2025-03-29T08:36:52.078831Z"
    }
   },
   "cell_type": "code",
   "source": [
    "plt.plot(plotPoints, [ approx(x) for x in plotPoints ])\n",
    "plt.scatter([0, 1], [1, 0])\n",
    "plt.ylim([-1,2])"
   ],
   "id": "c5c44fd8558f4af1",
   "outputs": [
    {
     "data": {
      "text/plain": [
       "(-1.0, 2.0)"
      ]
     },
     "execution_count": 70,
     "metadata": {},
     "output_type": "execute_result"
    },
    {
     "data": {
      "text/plain": [
       "<Figure size 640x480 with 1 Axes>"
      ],
      "image/png": "[encoded data removed]"
     },
     "metadata": {},
     "output_type": "display_data"
    }
   ],
   "execution_count": 70
  },
  {
   "metadata": {
    "ExecuteTime": {
     "end_time": "2025-03-29T08:36:52.138095Z",
     "start_time": "2025-03-29T08:36:52.136209Z"
    }
   },
   "cell_type": "code",
   "source": [
    "C1 = -3.1\n",
    "C2 = 1\n",
    "def real(x):\n",
    "    _v = exp(-1 * x * x / 2)\n",
    "    return C1 * sqrt(pi / 2) * _v * erf(x / 1.4142) + C2 * _v + x"
   ],
   "id": "757251f639729c36",
   "outputs": [],
   "execution_count": 71
  },
  {
   "metadata": {
    "ExecuteTime": {
     "end_time": "2025-03-29T08:36:52.146993Z",
     "start_time": "2025-03-29T08:36:52.145237Z"
    }
   },
   "cell_type": "code",
   "source": [
    "X = linspace(-2, 2, 50)\n",
    "realValues = [real(x) for x in X]"
   ],
   "id": "e9a860579e130f95",
   "outputs": [],
   "execution_count": 72
  },
  {
   "metadata": {
    "ExecuteTime": {
     "end_time": "2025-03-29T08:36:52.155861Z",
     "start_time": "2025-03-29T08:36:52.153717Z"
    }
   },
   "cell_type": "code",
   "source": "appValues = [ approx(x) for x in X ]",
   "id": "21dddd6071a88049",
   "outputs": [],
   "execution_count": 73
  },
  {
   "metadata": {
    "ExecuteTime": {
     "end_time": "2025-03-29T08:36:52.164843Z",
     "start_time": "2025-03-29T08:36:52.161850Z"
    }
   },
   "cell_type": "code",
   "source": [
    "nX = points\n",
    "\n",
    "curDf = DataFrame(columns=[\"x\", \"diff y\", \"w\"])\n",
    "curDf[\"x\"] = points\n",
    "curDf[\"w\"] = 1\n"
   ],
   "id": "2522717e2332456b",
   "outputs": [],
   "execution_count": 74
  },
  {
   "metadata": {
    "ExecuteTime": {
     "end_time": "2025-03-29T08:36:52.176702Z",
     "start_time": "2025-03-29T08:36:52.173110Z"
    }
   },
   "cell_type": "code",
   "source": "curDf",
   "id": "50973c850055ed3d",
   "outputs": [
    {
     "data": {
      "text/plain": [
       "          x diff y  w\n",
       "0  0.000000    NaN  1\n",
       "1  0.111111    NaN  1\n",
       "2  0.222222    NaN  1\n",
       "3  0.333333    NaN  1\n",
       "4  0.444444    NaN  1\n",
       "5  0.555556    NaN  1\n",
       "6  0.666667    NaN  1\n",
       "7  0.777778    NaN  1\n",
       "8  0.888889    NaN  1\n",
       "9  1.000000    NaN  1"
      ],
      "text/html": [
       "<div>\n",
       "<style scoped>\n",
       "    .dataframe tbody tr th:only-of-type {\n",
       "        vertical-align: middle;\n",
       "    }\n",
       "\n",
       "    .dataframe tbody tr th {\n",
       "        vertical-align: top;\n",
       "    }\n",
       "\n",
       "    .dataframe thead th {\n",
       "        text-align: right;\n",
       "    }\n",
       "</style>\n",
       "<table border=\"1\" class=\"dataframe\">\n",
       "  <thead>\n",
       "    <tr style=\"text-align: right;\">\n",
       "      <th></th>\n",
       "      <th>x</th>\n",
       "      <th>diff y</th>\n",
       "      <th>w</th>\n",
       "    </tr>\n",
       "  </thead>\n",
       "  <tbody>\n",
       "    <tr>\n",
       "      <th>0</th>\n",
       "      <td>0.000000</td>\n",
       "      <td>NaN</td>\n",
       "      <td>1</td>\n",
       "    </tr>\n",
       "    <tr>\n",
       "      <th>1</th>\n",
       "      <td>0.111111</td>\n",
       "      <td>NaN</td>\n",
       "      <td>1</td>\n",
       "    </tr>\n",
       "    <tr>\n",
       "      <th>2</th>\n",
       "      <td>0.222222</td>\n",
       "      <td>NaN</td>\n",
       "      <td>1</td>\n",
       "    </tr>\n",
       "    <tr>\n",
       "      <th>3</th>\n",
       "      <td>0.333333</td>\n",
       "      <td>NaN</td>\n",
       "      <td>1</td>\n",
       "    </tr>\n",
       "    <tr>\n",
       "      <th>4</th>\n",
       "      <td>0.444444</td>\n",
       "      <td>NaN</td>\n",
       "      <td>1</td>\n",
       "    </tr>\n",
       "    <tr>\n",
       "      <th>5</th>\n",
       "      <td>0.555556</td>\n",
       "      <td>NaN</td>\n",
       "      <td>1</td>\n",
       "    </tr>\n",
       "    <tr>\n",
       "      <th>6</th>\n",
       "      <td>0.666667</td>\n",
       "      <td>NaN</td>\n",
       "      <td>1</td>\n",
       "    </tr>\n",
       "    <tr>\n",
       "      <th>7</th>\n",
       "      <td>0.777778</td>\n",
       "      <td>NaN</td>\n",
       "      <td>1</td>\n",
       "    </tr>\n",
       "    <tr>\n",
       "      <th>8</th>\n",
       "      <td>0.888889</td>\n",
       "      <td>NaN</td>\n",
       "      <td>1</td>\n",
       "    </tr>\n",
       "    <tr>\n",
       "      <th>9</th>\n",
       "      <td>1.000000</td>\n",
       "      <td>NaN</td>\n",
       "      <td>1</td>\n",
       "    </tr>\n",
       "  </tbody>\n",
       "</table>\n",
       "</div>"
      ]
     },
     "execution_count": 75,
     "metadata": {},
     "output_type": "execute_result"
    }
   ],
   "execution_count": 75
  },
  {
   "metadata": {
    "ExecuteTime": {
     "end_time": "2025-03-29T08:36:52.215599Z",
     "start_time": "2025-03-29T08:36:52.211154Z"
    }
   },
   "cell_type": "code",
   "source": [
    "curDf.at[0, \"w\"] = 100\n",
    "curDf.at[len(points)-1, \"w\"] = 100\n",
    "curDf"
   ],
   "id": "448661ae6600c6f2",
   "outputs": [
    {
     "data": {
      "text/plain": [
       "          x diff y    w\n",
       "0  0.000000    NaN  100\n",
       "1  0.111111    NaN    1\n",
       "2  0.222222    NaN    1\n",
       "3  0.333333    NaN    1\n",
       "4  0.444444    NaN    1\n",
       "5  0.555556    NaN    1\n",
       "6  0.666667    NaN    1\n",
       "7  0.777778    NaN    1\n",
       "8  0.888889    NaN    1\n",
       "9  1.000000    NaN  100"
      ],
      "text/html": [
       "<div>\n",
       "<style scoped>\n",
       "    .dataframe tbody tr th:only-of-type {\n",
       "        vertical-align: middle;\n",
       "    }\n",
       "\n",
       "    .dataframe tbody tr th {\n",
       "        vertical-align: top;\n",
       "    }\n",
       "\n",
       "    .dataframe thead th {\n",
       "        text-align: right;\n",
       "    }\n",
       "</style>\n",
       "<table border=\"1\" class=\"dataframe\">\n",
       "  <thead>\n",
       "    <tr style=\"text-align: right;\">\n",
       "      <th></th>\n",
       "      <th>x</th>\n",
       "      <th>diff y</th>\n",
       "      <th>w</th>\n",
       "    </tr>\n",
       "  </thead>\n",
       "  <tbody>\n",
       "    <tr>\n",
       "      <th>0</th>\n",
       "      <td>0.000000</td>\n",
       "      <td>NaN</td>\n",
       "      <td>100</td>\n",
       "    </tr>\n",
       "    <tr>\n",
       "      <th>1</th>\n",
       "      <td>0.111111</td>\n",
       "      <td>NaN</td>\n",
       "      <td>1</td>\n",
       "    </tr>\n",
       "    <tr>\n",
       "      <th>2</th>\n",
       "      <td>0.222222</td>\n",
       "      <td>NaN</td>\n",
       "      <td>1</td>\n",
       "    </tr>\n",
       "    <tr>\n",
       "      <th>3</th>\n",
       "      <td>0.333333</td>\n",
       "      <td>NaN</td>\n",
       "      <td>1</td>\n",
       "    </tr>\n",
       "    <tr>\n",
       "      <th>4</th>\n",
       "      <td>0.444444</td>\n",
       "      <td>NaN</td>\n",
       "      <td>1</td>\n",
       "    </tr>\n",
       "    <tr>\n",
       "      <th>5</th>\n",
       "      <td>0.555556</td>\n",
       "      <td>NaN</td>\n",
       "      <td>1</td>\n",
       "    </tr>\n",
       "    <tr>\n",
       "      <th>6</th>\n",
       "      <td>0.666667</td>\n",
       "      <td>NaN</td>\n",
       "      <td>1</td>\n",
       "    </tr>\n",
       "    <tr>\n",
       "      <th>7</th>\n",
       "      <td>0.777778</td>\n",
       "      <td>NaN</td>\n",
       "      <td>1</td>\n",
       "    </tr>\n",
       "    <tr>\n",
       "      <th>8</th>\n",
       "      <td>0.888889</td>\n",
       "      <td>NaN</td>\n",
       "      <td>1</td>\n",
       "    </tr>\n",
       "    <tr>\n",
       "      <th>9</th>\n",
       "      <td>1.000000</td>\n",
       "      <td>NaN</td>\n",
       "      <td>100</td>\n",
       "    </tr>\n",
       "  </tbody>\n",
       "</table>\n",
       "</div>"
      ]
     },
     "execution_count": 76,
     "metadata": {},
     "output_type": "execute_result"
    }
   ],
   "execution_count": 76
  },
  {
   "metadata": {
    "ExecuteTime": {
     "end_time": "2025-03-29T08:36:52.269235Z",
     "start_time": "2025-03-29T08:36:52.267406Z"
    }
   },
   "cell_type": "code",
   "source": "realPoints = [real(x) for x in points]\n",
   "id": "b25b03ef7131551c",
   "outputs": [],
   "execution_count": 77
  },
  {
   "metadata": {
    "ExecuteTime": {
     "end_time": "2025-03-29T08:36:52.327080Z",
     "start_time": "2025-03-29T08:36:52.315910Z"
    }
   },
   "cell_type": "code",
   "source": [
    "\n",
    "\n",
    "resDf = DataFrame(index=range(1, N+1), columns=[\"err\"])\n",
    "for power in range(1, N+1):\n",
    "    approx = Approx(points, power, p=lambda x:x, g=lambda x:1, f=lambda x:2*x)\n",
    "    print(approx.coefficients())\n",
    "    approxValues = [approx(x) for x in points]\n",
    "    curDf[\"diff y\"] = [(a - b) ** 2 for a, b in zip(realPoints, approxValues)]\n",
    "\n",
    "    resDf.loc[power, \"err\"] = sum(curDf[\"w\"] * curDf[\"diff y\"])\n"
   ],
   "id": "482041a86d7a2e96",
   "outputs": [
    {
     "name": "stdout",
     "output_type": "stream",
     "text": [
      "[-0.55981667]\n",
      "[-0.64488365 -0.81024154]\n",
      "[-0.72573789 -1.2653209   0.55859146]\n",
      "[-0.72883598 -1.23910468  0.41399599  0.11047218]\n",
      "[-0.7271461  -1.22700844  0.28794607  0.35879635 -0.13270592]\n",
      "[-0.72712777 -1.22706929  0.29032974  0.35027185 -0.12194872 -0.00448638]\n"
     ]
    }
   ],
   "execution_count": 78
  },
  {
   "metadata": {
    "ExecuteTime": {
     "end_time": "2025-03-29T08:36:52.361221Z",
     "start_time": "2025-03-29T08:36:52.357465Z"
    }
   },
   "cell_type": "code",
   "source": "resDf",
   "id": "6c81ea4d3574ebf0",
   "outputs": [
    {
     "data": {
      "text/plain": [
       "        err\n",
       "1  0.389168\n",
       "2  0.122865\n",
       "3  0.072295\n",
       "4  0.068891\n",
       "5  0.068964\n",
       "6  0.068979"
      ],
      "text/html": [
       "<div>\n",
       "<style scoped>\n",
       "    .dataframe tbody tr th:only-of-type {\n",
       "        vertical-align: middle;\n",
       "    }\n",
       "\n",
       "    .dataframe tbody tr th {\n",
       "        vertical-align: top;\n",
       "    }\n",
       "\n",
       "    .dataframe thead th {\n",
       "        text-align: right;\n",
       "    }\n",
       "</style>\n",
       "<table border=\"1\" class=\"dataframe\">\n",
       "  <thead>\n",
       "    <tr style=\"text-align: right;\">\n",
       "      <th></th>\n",
       "      <th>err</th>\n",
       "    </tr>\n",
       "  </thead>\n",
       "  <tbody>\n",
       "    <tr>\n",
       "      <th>1</th>\n",
       "      <td>0.389168</td>\n",
       "    </tr>\n",
       "    <tr>\n",
       "      <th>2</th>\n",
       "      <td>0.122865</td>\n",
       "    </tr>\n",
       "    <tr>\n",
       "      <th>3</th>\n",
       "      <td>0.072295</td>\n",
       "    </tr>\n",
       "    <tr>\n",
       "      <th>4</th>\n",
       "      <td>0.068891</td>\n",
       "    </tr>\n",
       "    <tr>\n",
       "      <th>5</th>\n",
       "      <td>0.068964</td>\n",
       "    </tr>\n",
       "    <tr>\n",
       "      <th>6</th>\n",
       "      <td>0.068979</td>\n",
       "    </tr>\n",
       "  </tbody>\n",
       "</table>\n",
       "</div>"
      ]
     },
     "execution_count": 79,
     "metadata": {},
     "output_type": "execute_result"
    }
   ],
   "execution_count": 79
  },
  {
   "metadata": {
    "ExecuteTime": {
     "end_time": "2025-03-29T08:36:52.508564Z",
     "start_time": "2025-03-29T08:36:52.443229Z"
    }
   },
   "cell_type": "code",
   "source": [
    "plt.plot(X, appValues, label=\"Approximation\")\n",
    "plt.plot(X, realValues, label=\"Real\")\n",
    "plt.plot(X, [abs(a - b) for a, b in zip(appValues, realValues)], label=\"Error\")\n",
    "plt.ylim([-1, 2])\n",
    "\n",
    "plt.legend()\n",
    "plt.plot()"
   ],
   "id": "7d4a81922aaf0112",
   "outputs": [
    {
     "data": {
      "text/plain": [
       "[]"
      ]
     },
     "execution_count": 80,
     "metadata": {},
     "output_type": "execute_result"
    },
    {
     "data": {
      "text/plain": [
       "<Figure size 640x480 with 1 Axes>"
      ],
      "image/png": "[encoded data removed]"
     },
     "metadata": {},
     "output_type": "display_data"
    }
   ],
   "execution_count": 80
  }
 ],
 "metadata": {
  "kernelspec": {
   "display_name": "Python 3",
   "language": "python",
   "name": "python3"
  },
  "language_info": {
   "codemirror_mode": {
    "name": "ipython",
    "version": 2
   },
   "file_extension": ".py",
   "mimetype": "text/x-python",
   "name": "python",
   "nbconvert_exporter": "python",
   "pygments_lexer": "ipython2",
   "version": "2.7.6"
  }
 },
 "nbformat": 4,
 "nbformat_minor": 5
}
