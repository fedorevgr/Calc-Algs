{
 "cells": [
  {
   "cell_type": "code",
   "id": "initial_id",
   "metadata": {
    "collapsed": true,
    "ExecuteTime": {
     "end_time": "2025-03-29T07:26:23.708284Z",
     "start_time": "2025-03-29T07:26:21.616286Z"
    }
   },
   "source": [
    "from matplotlib import pyplot as plt\n",
    "from pandas import DataFrame, read_table\n",
    "from QuadraticAprox.D2 import Approx\n",
    "from numpy import linspace"
   ],
   "outputs": [],
   "execution_count": 1
  },
  {
   "metadata": {
    "ExecuteTime": {
     "end_time": "2025-03-29T07:26:23.727331Z",
     "start_time": "2025-03-29T07:26:23.721475Z"
    }
   },
   "cell_type": "code",
   "source": [
    "FILENAME = \"Data/test4.txt\"\n",
    "data: DataFrame = read_table(FILENAME, names=['z', 'x', 'y', 'weight'], sep=\"\\\\s+\", comment=\"/\")"
   ],
   "id": "d2bdcf37b9662016",
   "outputs": [],
   "execution_count": 2
  },
  {
   "metadata": {
    "ExecuteTime": {
     "end_time": "2025-03-29T07:26:23.738430Z",
     "start_time": "2025-03-29T07:26:23.735743Z"
    }
   },
   "cell_type": "code",
   "source": "# data\n",
   "id": "865d5ca70cd8644f",
   "outputs": [],
   "execution_count": 3
  },
  {
   "metadata": {
    "ExecuteTime": {
     "end_time": "2025-03-29T07:26:23.757623Z",
     "start_time": "2025-03-29T07:26:23.750477Z"
    }
   },
   "cell_type": "code",
   "source": "data",
   "id": "cae85a93b0bea052",
   "outputs": [
    {
     "data": {
      "text/plain": [
       "       z  x  y  weight\n",
       "0   8.13 -2 -1       6\n",
       "1   7.50 -2  0       7\n",
       "2   5.78 -2  1       2\n",
       "3   1.11 -2  2       7\n",
       "4   2.13 -1 -1       7\n",
       "5   1.50 -1  0       4\n",
       "6  -0.22 -1  1       6\n",
       "7  -4.89 -1  2       9\n",
       "8   0.13  0 -1       5\n",
       "9  -0.50  0  0       4\n",
       "10 -2.22  0  1       6\n",
       "11 -6.89  0  2       8\n",
       "12  2.13  1 -1       4\n",
       "13  1.50  1  0       6\n",
       "14 -0.22  1  1       5\n",
       "15 -4.89  1  2       9\n",
       "16  8.13  2 -1       6\n",
       "17  7.50  2  0       8\n",
       "18  5.78  2  1       6\n",
       "19  1.11  2  2       1"
      ],
      "text/html": [
       "<div>\n",
       "<style scoped>\n",
       "    .dataframe tbody tr th:only-of-type {\n",
       "        vertical-align: middle;\n",
       "    }\n",
       "\n",
       "    .dataframe tbody tr th {\n",
       "        vertical-align: top;\n",
       "    }\n",
       "\n",
       "    .dataframe thead th {\n",
       "        text-align: right;\n",
       "    }\n",
       "</style>\n",
       "<table border=\"1\" class=\"dataframe\">\n",
       "  <thead>\n",
       "    <tr style=\"text-align: right;\">\n",
       "      <th></th>\n",
       "      <th>z</th>\n",
       "      <th>x</th>\n",
       "      <th>y</th>\n",
       "      <th>weight</th>\n",
       "    </tr>\n",
       "  </thead>\n",
       "  <tbody>\n",
       "    <tr>\n",
       "      <th>0</th>\n",
       "      <td>8.13</td>\n",
       "      <td>-2</td>\n",
       "      <td>-1</td>\n",
       "      <td>6</td>\n",
       "    </tr>\n",
       "    <tr>\n",
       "      <th>1</th>\n",
       "      <td>7.50</td>\n",
       "      <td>-2</td>\n",
       "      <td>0</td>\n",
       "      <td>7</td>\n",
       "    </tr>\n",
       "    <tr>\n",
       "      <th>2</th>\n",
       "      <td>5.78</td>\n",
       "      <td>-2</td>\n",
       "      <td>1</td>\n",
       "      <td>2</td>\n",
       "    </tr>\n",
       "    <tr>\n",
       "      <th>3</th>\n",
       "      <td>1.11</td>\n",
       "      <td>-2</td>\n",
       "      <td>2</td>\n",
       "      <td>7</td>\n",
       "    </tr>\n",
       "    <tr>\n",
       "      <th>4</th>\n",
       "      <td>2.13</td>\n",
       "      <td>-1</td>\n",
       "      <td>-1</td>\n",
       "      <td>7</td>\n",
       "    </tr>\n",
       "    <tr>\n",
       "      <th>5</th>\n",
       "      <td>1.50</td>\n",
       "      <td>-1</td>\n",
       "      <td>0</td>\n",
       "      <td>4</td>\n",
       "    </tr>\n",
       "    <tr>\n",
       "      <th>6</th>\n",
       "      <td>-0.22</td>\n",
       "      <td>-1</td>\n",
       "      <td>1</td>\n",
       "      <td>6</td>\n",
       "    </tr>\n",
       "    <tr>\n",
       "      <th>7</th>\n",
       "      <td>-4.89</td>\n",
       "      <td>-1</td>\n",
       "      <td>2</td>\n",
       "      <td>9</td>\n",
       "    </tr>\n",
       "    <tr>\n",
       "      <th>8</th>\n",
       "      <td>0.13</td>\n",
       "      <td>0</td>\n",
       "      <td>-1</td>\n",
       "      <td>5</td>\n",
       "    </tr>\n",
       "    <tr>\n",
       "      <th>9</th>\n",
       "      <td>-0.50</td>\n",
       "      <td>0</td>\n",
       "      <td>0</td>\n",
       "      <td>4</td>\n",
       "    </tr>\n",
       "    <tr>\n",
       "      <th>10</th>\n",
       "      <td>-2.22</td>\n",
       "      <td>0</td>\n",
       "      <td>1</td>\n",
       "      <td>6</td>\n",
       "    </tr>\n",
       "    <tr>\n",
       "      <th>11</th>\n",
       "      <td>-6.89</td>\n",
       "      <td>0</td>\n",
       "      <td>2</td>\n",
       "      <td>8</td>\n",
       "    </tr>\n",
       "    <tr>\n",
       "      <th>12</th>\n",
       "      <td>2.13</td>\n",
       "      <td>1</td>\n",
       "      <td>-1</td>\n",
       "      <td>4</td>\n",
       "    </tr>\n",
       "    <tr>\n",
       "      <th>13</th>\n",
       "      <td>1.50</td>\n",
       "      <td>1</td>\n",
       "      <td>0</td>\n",
       "      <td>6</td>\n",
       "    </tr>\n",
       "    <tr>\n",
       "      <th>14</th>\n",
       "      <td>-0.22</td>\n",
       "      <td>1</td>\n",
       "      <td>1</td>\n",
       "      <td>5</td>\n",
       "    </tr>\n",
       "    <tr>\n",
       "      <th>15</th>\n",
       "      <td>-4.89</td>\n",
       "      <td>1</td>\n",
       "      <td>2</td>\n",
       "      <td>9</td>\n",
       "    </tr>\n",
       "    <tr>\n",
       "      <th>16</th>\n",
       "      <td>8.13</td>\n",
       "      <td>2</td>\n",
       "      <td>-1</td>\n",
       "      <td>6</td>\n",
       "    </tr>\n",
       "    <tr>\n",
       "      <th>17</th>\n",
       "      <td>7.50</td>\n",
       "      <td>2</td>\n",
       "      <td>0</td>\n",
       "      <td>8</td>\n",
       "    </tr>\n",
       "    <tr>\n",
       "      <th>18</th>\n",
       "      <td>5.78</td>\n",
       "      <td>2</td>\n",
       "      <td>1</td>\n",
       "      <td>6</td>\n",
       "    </tr>\n",
       "    <tr>\n",
       "      <th>19</th>\n",
       "      <td>1.11</td>\n",
       "      <td>2</td>\n",
       "      <td>2</td>\n",
       "      <td>1</td>\n",
       "    </tr>\n",
       "  </tbody>\n",
       "</table>\n",
       "</div>"
      ]
     },
     "execution_count": 4,
     "metadata": {},
     "output_type": "execute_result"
    }
   ],
   "execution_count": 4
  },
  {
   "metadata": {
    "ExecuteTime": {
     "end_time": "2025-03-29T07:26:23.881988Z",
     "start_time": "2025-03-29T07:26:23.862336Z"
    }
   },
   "cell_type": "code",
   "source": "approx = Approx(data, 2)",
   "id": "148ddab19245ef74",
   "outputs": [],
   "execution_count": 5
  },
  {
   "metadata": {
    "ExecuteTime": {
     "end_time": "2025-03-29T07:26:23.931953Z",
     "start_time": "2025-03-29T07:26:23.928965Z"
    }
   },
   "cell_type": "code",
   "source": "approx.coefficients()",
   "id": "a5b86095fb114d38",
   "outputs": [
    {
     "data": {
      "text/plain": [
       "array([-0.21951038, -1.28310722, -1.00170223,  0.0032522 ,  0.01202548,\n",
       "        1.98985703])"
      ]
     },
     "execution_count": 6,
     "metadata": {},
     "output_type": "execute_result"
    }
   ],
   "execution_count": 6
  },
  {
   "metadata": {
    "ExecuteTime": {
     "end_time": "2025-03-29T07:26:24.031338Z",
     "start_time": "2025-03-29T07:26:24.028231Z"
    }
   },
   "cell_type": "code",
   "source": "str(approx)",
   "id": "39c1ef756c97606f",
   "outputs": [
    {
     "data": {
      "text/plain": [
       "'(-0.2195103787143414) * (x ^ 0) * (y ^ 0) + (-1.2831072165252806) * (x ^ 0) * (y ^ 1) + (-1.0017022287805268) * (x ^ 0) * (y ^ 2) + (0.003252202772628121) * (x ^ 1) * (y ^ 0) + (0.012025483743401559) * (x ^ 1) * (y ^ 1) + (1.9898570262523627) * (x ^ 2) * (y ^ 0)'"
      ]
     },
     "execution_count": 7,
     "metadata": {},
     "output_type": "execute_result"
    }
   ],
   "execution_count": 7
  }
 ],
 "metadata": {
  "kernelspec": {
   "display_name": "Python 3",
   "language": "python",
   "name": "python3"
  },
  "language_info": {
   "codemirror_mode": {
    "name": "ipython",
    "version": 2
   },
   "file_extension": ".py",
   "mimetype": "text/x-python",
   "name": "python",
   "nbconvert_exporter": "python",
   "pygments_lexer": "ipython2",
   "version": "2.7.6"
  }
 },
 "nbformat": 4,
 "nbformat_minor": 5
}
