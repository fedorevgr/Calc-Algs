{
 "cells": [
  {
   "cell_type": "code",
   "id": "initial_id",
   "metadata": {
    "collapsed": true,
    "ExecuteTime": {
     "end_time": "2025-04-05T07:24:53.094026Z",
     "start_time": "2025-04-05T07:24:52.826568Z"
    }
   },
   "source": [
    "from numpy import array, linspace\n",
    "from itertools import product\n",
    "from Mathing.MegaEQSolver import Solver, vectorT, ExtrapolationError\n"
   ],
   "outputs": [],
   "execution_count": 1
  },
  {
   "metadata": {
    "ExecuteTime": {
     "end_time": "2025-04-05T07:24:53.104549Z",
     "start_time": "2025-04-05T07:24:53.102112Z"
    }
   },
   "cell_type": "code",
   "source": [
    "def func1(v: vectorT) -> float:\n",
    "\tx = v[0]\n",
    "\ty = v[1]\n",
    "\tz = v[2]\n",
    "\treturn x*x + y*y + z*z - 1 # 1, 0, 0\n",
    "\n",
    "def func2(v: vectorT) -> float:\n",
    "\tx = v[0]\n",
    "\ty = v[1]\n",
    "\tz = v[2]\n",
    "\treturn 2*x*x + y*y - 4*z\n",
    "\n",
    "def func3(v: vectorT) -> float:\n",
    "\tx = v[0]\n",
    "\ty = v[1]\n",
    "\tz = v[2]\n",
    "\treturn 3*x*x - 4*y + z*z"
   ],
   "id": "fc499766716f5168",
   "outputs": [],
   "execution_count": 2
  },
  {
   "metadata": {},
   "cell_type": "markdown",
   "source": [
    "x^2 + y^2 + z^2 = 1\n",
    "\n",
    "2x^2 + y^2 -4z = 0\n",
    "\n",
    "3x^2 - 4y + z^2 = 0"
   ],
   "id": "de3a3b5b7348716b"
  },
  {
   "metadata": {
    "ExecuteTime": {
     "end_time": "2025-04-05T07:24:53.109363Z",
     "start_time": "2025-04-05T07:24:53.107303Z"
    }
   },
   "cell_type": "code",
   "source": [
    "def grad1(v: vectorT) -> vectorT:\n",
    "\tx = v[0]\n",
    "\ty = v[1]\n",
    "\tz = v[2]\n",
    "\n",
    "\treturn array([2*x, 2*y, 2*z])\n",
    "\n",
    "def grad2(v: vectorT) -> vectorT:\n",
    "\tx = v[0]\n",
    "\ty = v[1]\n",
    "\tz = v[2]\n",
    "\treturn array([4*x, 2*y, -4])\n",
    "\n",
    "def grad3(v: vectorT) -> vectorT:\n",
    "\tx = v[0]\n",
    "\ty = v[1]\n",
    "\tz = v[2]\n",
    "\treturn array([6*x, -4, 2*z])"
   ],
   "id": "c1d41c875719a326",
   "outputs": [],
   "execution_count": 3
  },
  {
   "metadata": {
    "ExecuteTime": {
     "end_time": "2025-04-05T07:24:53.195212Z",
     "start_time": "2025-04-05T07:24:53.192940Z"
    }
   },
   "cell_type": "code",
   "source": "solver = Solver([func1, func2, func3], [grad1, grad2, grad3])",
   "id": "a50977942b670296",
   "outputs": [],
   "execution_count": 4
  },
  {
   "metadata": {},
   "cell_type": "markdown",
   "source": "solution somewhere (0.8,0.5,0.4)",
   "id": "bbe04ca522f3c8ea"
  },
  {
   "metadata": {
    "ExecuteTime": {
     "end_time": "2025-04-05T07:24:53.210216Z",
     "start_time": "2025-04-05T07:24:53.205314Z"
    }
   },
   "cell_type": "code",
   "source": "solver.solve(array([.8, .5, .4]))",
   "id": "eccea421b9ac7264",
   "outputs": [
    {
     "data": {
      "text/plain": [
       "(array([0.7851971 , 0.49661143, 0.36992286]), 2)"
      ]
     },
     "execution_count": 5,
     "metadata": {},
     "output_type": "execute_result"
    }
   ],
   "execution_count": 5
  },
  {
   "metadata": {
    "ExecuteTime": {
     "end_time": "2025-04-05T07:25:41.810164Z",
     "start_time": "2025-04-05T07:25:41.684918Z"
    }
   },
   "cell_type": "code",
   "source": "solver.solve(array([-1, -10, -10]))",
   "id": "f602467dfe1ce8f5",
   "outputs": [
    {
     "ename": "ExtrapolationError",
     "evalue": "('Value extrapolated', array([-37.34365714,  -1.62109171,  -2.80991546]))",
     "output_type": "error",
     "traceback": [
      "\u001B[31m---------------------------------------------------------------------------\u001B[39m",
      "\u001B[31mExtrapolationError\u001B[39m                        Traceback (most recent call last)",
      "\u001B[36mCell\u001B[39m\u001B[36m \u001B[39m\u001B[32mIn[6]\u001B[39m\u001B[32m, line 1\u001B[39m\n\u001B[32m----> \u001B[39m\u001B[32m1\u001B[39m \u001B[43msolver\u001B[49m\u001B[43m.\u001B[49m\u001B[43msolve\u001B[49m\u001B[43m(\u001B[49m\u001B[43marray\u001B[49m\u001B[43m(\u001B[49m\u001B[43m[\u001B[49m\u001B[43m-\u001B[49m\u001B[32;43m1\u001B[39;49m\u001B[43m,\u001B[49m\u001B[43m \u001B[49m\u001B[43m-\u001B[49m\u001B[32;43m10\u001B[39;49m\u001B[43m,\u001B[49m\u001B[43m \u001B[49m\u001B[43m-\u001B[49m\u001B[32;43m10\u001B[39;49m\u001B[43m]\u001B[49m\u001B[43m)\u001B[49m\u001B[43m)\u001B[49m\n",
      "\u001B[36mFile \u001B[39m\u001B[32m~/Documents/University/Semester_3/Algorithms/lab4/Mathing/MegaEQSolver.py:54\u001B[39m, in \u001B[36mSolver.solve\u001B[39m\u001B[34m(self, startApprox)\u001B[39m\n\u001B[32m     52\u001B[39m \t\t\u001B[38;5;28;01mbreak\u001B[39;00m\n\u001B[32m     53\u001B[39m \t\u001B[38;5;28;01mif\u001B[39;00m \u001B[38;5;129;01mnot\u001B[39;00m \u001B[38;5;28mall\u001B[39m(\u001B[38;5;28mmap\u001B[39m(\u001B[38;5;28;01mlambda\u001B[39;00m x: \u001B[38;5;28mabs\u001B[39m(x) < \u001B[38;5;28mself\u001B[39m.EXTRAPOLATION_FACTOR, delta)):\n\u001B[32m---> \u001B[39m\u001B[32m54\u001B[39m \t\t\u001B[38;5;28;01mraise\u001B[39;00m ExtrapolationError(nextApprox)\n\u001B[32m     56\u001B[39m \tprevApprox = nextApprox\n\u001B[32m     58\u001B[39m \u001B[38;5;28;01mreturn\u001B[39;00m nextApprox, n\n",
      "\u001B[31mExtrapolationError\u001B[39m: ('Value extrapolated', array([-37.34365714,  -1.62109171,  -2.80991546]))"
     ]
    }
   ],
   "execution_count": 6
  }
 ],
 "metadata": {
  "kernelspec": {
   "display_name": "Python 3",
   "language": "python",
   "name": "python3"
  },
  "language_info": {
   "codemirror_mode": {
    "name": "ipython",
    "version": 2
   },
   "file_extension": ".py",
   "mimetype": "text/x-python",
   "name": "python",
   "nbconvert_exporter": "python",
   "pygments_lexer": "ipython2",
   "version": "2.7.6"
  }
 },
 "nbformat": 4,
 "nbformat_minor": 5
}
