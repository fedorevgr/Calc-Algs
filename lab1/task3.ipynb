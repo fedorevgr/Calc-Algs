{
 "cells": [
  {
   "cell_type": "code",
   "id": "initial_id",
   "metadata": {
    "collapsed": true,
    "ExecuteTime": {
     "end_time": "2025-03-01T15:04:19.487976Z",
     "start_time": "2025-03-01T15:04:19.484502Z"
    }
   },
   "source": [
    "from src.Table import Table\n",
    "from src.Math import InterpolationTable\n",
    "\n",
    "from pandas import DataFrame, concat\n",
    "from numpy import nan\n"
   ],
   "outputs": [],
   "execution_count": 14
  },
  {
   "metadata": {
    "ExecuteTime": {
     "end_time": "2025-03-01T15:04:19.500565Z",
     "start_time": "2025-03-01T15:04:19.496326Z"
    }
   },
   "cell_type": "code",
   "source": [
    "from matplotlib import pyplot as plt\n",
    "import numpy as np"
   ],
   "id": "25a5fe1058db1cc4",
   "outputs": [],
   "execution_count": 15
  },
  {
   "metadata": {
    "ExecuteTime": {
     "end_time": "2025-03-01T15:04:19.521555Z",
     "start_time": "2025-03-01T15:04:19.515820Z"
    }
   },
   "cell_type": "code",
   "source": [
    "\n",
    "t1: Table = Table(\"data/data3_1\")\n",
    "t2: Table = Table(\"data/data3_2\")\n",
    "\n",
    "data1: DataFrame = DataFrame(t1.data, dtype=\"float64\")\n",
    "data2: DataFrame = DataFrame(t2.data, dtype=\"float64\")\n",
    "\n",
    "dataExt: DataFrame = data1[[\"x\"]].copy()\n",
    "dataExt.loc[:, \"y\"] = nan\n"
   ],
   "id": "8de793a266e72147",
   "outputs": [],
   "execution_count": 16
  },
  {
   "metadata": {
    "ExecuteTime": {
     "end_time": "2025-03-01T15:04:19.564234Z",
     "start_time": "2025-03-01T15:04:19.529973Z"
    }
   },
   "cell_type": "code",
   "source": [
    "\n",
    "POWER: int = 5\n",
    "\n",
    "for i, r in dataExt.iterrows():\n",
    "    y = InterpolationTable.newtonInterpolation(data2, POWER, r[\"x\"])(r[\"x\"])\n",
    "    dataExt.loc[i, \"y\"] = y\n",
    "\n",
    "sim = dataExt.copy()\n",
    "dataExt[\"y\"] = data1[\"y\"] - dataExt[\"y\"]\n",
    "dataExt = dataExt[dataExt[\"x\"] >= 0.6]\n",
    "\n"
   ],
   "id": "54be393b644ad7a8",
   "outputs": [],
   "execution_count": 17
  },
  {
   "metadata": {
    "ExecuteTime": {
     "end_time": "2025-03-01T15:04:19.574609Z",
     "start_time": "2025-03-01T15:04:19.570773Z"
    }
   },
   "cell_type": "code",
   "source": "dataExt",
   "id": "50f80b7d6a3e6619",
   "outputs": [
    {
     "data": {
      "text/plain": [
       "       x         y\n",
       "4  0.626  0.264630\n",
       "5  0.664  0.222325\n",
       "6  0.731  0.117411\n",
       "7  0.843 -0.171168\n",
       "8  0.891 -0.348278\n",
       "9  0.985 -0.809422"
      ],
      "text/html": [
       "<div>\n",
       "<style scoped>\n",
       "    .dataframe tbody tr th:only-of-type {\n",
       "        vertical-align: middle;\n",
       "    }\n",
       "\n",
       "    .dataframe tbody tr th {\n",
       "        vertical-align: top;\n",
       "    }\n",
       "\n",
       "    .dataframe thead th {\n",
       "        text-align: right;\n",
       "    }\n",
       "</style>\n",
       "<table border=\"1\" class=\"dataframe\">\n",
       "  <thead>\n",
       "    <tr style=\"text-align: right;\">\n",
       "      <th></th>\n",
       "      <th>x</th>\n",
       "      <th>y</th>\n",
       "    </tr>\n",
       "  </thead>\n",
       "  <tbody>\n",
       "    <tr>\n",
       "      <th>4</th>\n",
       "      <td>0.626</td>\n",
       "      <td>0.264630</td>\n",
       "    </tr>\n",
       "    <tr>\n",
       "      <th>5</th>\n",
       "      <td>0.664</td>\n",
       "      <td>0.222325</td>\n",
       "    </tr>\n",
       "    <tr>\n",
       "      <th>6</th>\n",
       "      <td>0.731</td>\n",
       "      <td>0.117411</td>\n",
       "    </tr>\n",
       "    <tr>\n",
       "      <th>7</th>\n",
       "      <td>0.843</td>\n",
       "      <td>-0.171168</td>\n",
       "    </tr>\n",
       "    <tr>\n",
       "      <th>8</th>\n",
       "      <td>0.891</td>\n",
       "      <td>-0.348278</td>\n",
       "    </tr>\n",
       "    <tr>\n",
       "      <th>9</th>\n",
       "      <td>0.985</td>\n",
       "      <td>-0.809422</td>\n",
       "    </tr>\n",
       "  </tbody>\n",
       "</table>\n",
       "</div>"
      ]
     },
     "execution_count": 18,
     "metadata": {},
     "output_type": "execute_result"
    }
   ],
   "execution_count": 18
  },
  {
   "metadata": {
    "ExecuteTime": {
     "end_time": "2025-03-01T15:04:19.607131Z",
     "start_time": "2025-03-01T15:04:19.597726Z"
    }
   },
   "cell_type": "code",
   "source": [
    "rX: float = InterpolationTable.newtonInterpolation(dataExt[[\"y\", \"x\"]].copy(), POWER, 0)(0)\n",
    "\n",
    "print(\"Root X:\", rX)\n",
    "\n",
    "print(\"Root Y:\", InterpolationTable.newtonInterpolation(data2, POWER, rX)(rX))"
   ],
   "id": "e4c88ac935eae81",
   "outputs": [
    {
     "name": "stdout",
     "output_type": "stream",
     "text": [
      "Root X: 0.7824985006268469\n",
      "Root Y: 0.22514561670474456\n"
     ]
    }
   ],
   "execution_count": 19
  },
  {
   "metadata": {
    "ExecuteTime": {
     "end_time": "2025-03-01T15:04:19.633503Z",
     "start_time": "2025-03-01T15:04:19.627178Z"
    }
   },
   "cell_type": "code",
   "source": "meth = InterpolationTable.newtonInterpolation(dataExt[[\"y\", \"x\"]].copy(), POWER, 0)",
   "id": "d4daffb7fea514f3",
   "outputs": [],
   "execution_count": 20
  },
  {
   "metadata": {
    "ExecuteTime": {
     "end_time": "2025-03-01T15:04:19.803954Z",
     "start_time": "2025-03-01T15:04:19.654948Z"
    }
   },
   "cell_type": "code",
   "source": [
    "x = np.linspace(0, 1, 500)\n",
    "y = list(map(meth, x))\n",
    "\n",
    "plt.ylim(-0.5, 2)\n",
    "# plt.scatter(data1[\"x\"], data1[\"y\"])\n",
    "# plt.scatter(data2[\"x\"], data2[\"y\"])\n",
    "# plt.scatter(sim[\"x\"], sim[\"y\"])\n",
    "plt.scatter(dataExt[\"x\"], dataExt[\"y\"])\n",
    "\n",
    "plt.plot(x, y, linestyle='--')\n",
    "plt.show()"
   ],
   "id": "57a603bcecf1e32f",
   "outputs": [
    {
     "data": {
      "text/plain": [
       "<Figure size 640x480 with 1 Axes>"
      ],
      "image/png": "[encoded data removed]"
     },
     "metadata": {},
     "output_type": "display_data"
    }
   ],
   "execution_count": 21
  }
 ],
 "metadata": {
  "kernelspec": {
   "display_name": "Python 3",
   "language": "python",
   "name": "python3"
  },
  "language_info": {
   "codemirror_mode": {
    "name": "ipython",
    "version": 2
   },
   "file_extension": ".py",
   "mimetype": "text/x-python",
   "name": "python",
   "nbconvert_exporter": "python",
   "pygments_lexer": "ipython2",
   "version": "2.7.6"
  }
 },
 "nbformat": 4,
 "nbformat_minor": 5
}
