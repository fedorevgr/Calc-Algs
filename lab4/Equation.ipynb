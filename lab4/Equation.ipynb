{
 "cells": [
  {
   "cell_type": "code",
   "id": "initial_id",
   "metadata": {
    "collapsed": true,
    "ExecuteTime": {
     "end_time": "2025-04-02T16:01:45.007569Z",
     "start_time": "2025-04-02T16:01:44.598057Z"
    }
   },
   "source": [
    "from numpy import array, linspace\n",
    "from itertools import product\n",
    "from Mathing.MegaEQSolver import Solver, vectorT, ExtrapolationError\n"
   ],
   "outputs": [],
   "execution_count": 1
  },
  {
   "metadata": {
    "ExecuteTime": {
     "end_time": "2025-04-02T16:01:45.017611Z",
     "start_time": "2025-04-02T16:01:45.011866Z"
    }
   },
   "cell_type": "code",
   "source": [
    "def func1(v: vectorT) -> float:\n",
    "\tx = v[0]\n",
    "\ty = v[1]\n",
    "\tz = v[2]\n",
    "\treturn x*x + y*y + z*z - 1\n",
    "\n",
    "def func2(v: vectorT) -> float:\n",
    "\tx = v[0]\n",
    "\ty = v[1]\n",
    "\tz = v[2]\n",
    "\treturn 2*x*x + y*y - 4*z\n",
    "\n",
    "def func3(v: vectorT) -> float:\n",
    "\tx = v[0]\n",
    "\ty = v[1]\n",
    "\tz = v[2]\n",
    "\treturn 3*x*x - 4*y + z*z"
   ],
   "id": "fc499766716f5168",
   "outputs": [],
   "execution_count": 2
  },
  {
   "metadata": {},
   "cell_type": "markdown",
   "source": [
    "x^2 + y^2 + z^2 = 1\n",
    "\n",
    "2x^2 + y^2 -4z = 0\n",
    "\n",
    "3x^2 - 4y + z^2 = 0"
   ],
   "id": "de3a3b5b7348716b"
  },
  {
   "metadata": {
    "ExecuteTime": {
     "end_time": "2025-04-02T16:01:45.231101Z",
     "start_time": "2025-04-02T16:01:45.225229Z"
    }
   },
   "cell_type": "code",
   "source": [
    "def grad1(v: vectorT) -> vectorT:\n",
    "\tx = v[0]\n",
    "\ty = v[1]\n",
    "\tz = v[2]\n",
    "\n",
    "\treturn array([2*x, 2*y, 2*z])\n",
    "\n",
    "def grad2(v: vectorT) -> vectorT:\n",
    "\tx = v[0]\n",
    "\ty = v[1]\n",
    "\tz = v[2]\n",
    "\treturn array([4*x, 2*y, -4])\n",
    "\n",
    "def grad3(v: vectorT) -> vectorT:\n",
    "\tx = v[0]\n",
    "\ty = v[1]\n",
    "\tz = v[2]\n",
    "\treturn array([6*x, -4, 2*z])"
   ],
   "id": "c1d41c875719a326",
   "outputs": [],
   "execution_count": 3
  },
  {
   "metadata": {
    "ExecuteTime": {
     "end_time": "2025-04-02T16:01:45.245730Z",
     "start_time": "2025-04-02T16:01:45.240430Z"
    }
   },
   "cell_type": "code",
   "source": "solver = Solver([func1, func2, func3], [grad1, grad2, grad3])",
   "id": "a50977942b670296",
   "outputs": [],
   "execution_count": 4
  },
  {
   "metadata": {},
   "cell_type": "markdown",
   "source": "solution somewhere (0.8,0.5,0.4)",
   "id": "bbe04ca522f3c8ea"
  },
  {
   "metadata": {
    "ExecuteTime": {
     "end_time": "2025-04-02T16:01:45.285105Z",
     "start_time": "2025-04-02T16:01:45.274017Z"
    }
   },
   "cell_type": "code",
   "source": "solver.solve(array([.8, .5, .4]))",
   "id": "eccea421b9ac7264",
   "outputs": [
    {
     "data": {
      "text/plain": [
       "array([0.7851971 , 0.49661143, 0.36992286])"
      ]
     },
     "execution_count": 6,
     "metadata": {},
     "output_type": "execute_result"
    }
   ],
   "execution_count": 6
  },
  {
   "metadata": {
    "ExecuteTime": {
     "end_time": "2025-04-02T16:01:45.381605Z",
     "start_time": "2025-04-02T16:01:45.379280Z"
    }
   },
   "cell_type": "code",
   "source": "",
   "id": "f602467dfe1ce8f5",
   "outputs": [],
   "execution_count": null
  }
 ],
 "metadata": {
  "kernelspec": {
   "display_name": "Python 3",
   "language": "python",
   "name": "python3"
  },
  "language_info": {
   "codemirror_mode": {
    "name": "ipython",
    "version": 2
   },
   "file_extension": ".py",
   "mimetype": "text/x-python",
   "name": "python",
   "nbconvert_exporter": "python",
   "pygments_lexer": "ipython2",
   "version": "2.7.6"
  }
 },
 "nbformat": 4,
 "nbformat_minor": 5
}
