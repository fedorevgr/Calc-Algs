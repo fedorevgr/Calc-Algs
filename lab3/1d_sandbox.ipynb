{
 "cells": [
  {
   "cell_type": "code",
   "id": "initial_id",
   "metadata": {
    "collapsed": true,
    "ExecuteTime": {
     "end_time": "2025-03-16T15:37:32.184139Z",
     "start_time": "2025-03-16T15:37:32.179885Z"
    }
   },
   "source": [
    "from matplotlib import pyplot as plt\n",
    "from pandas import DataFrame, read_table\n",
    "from QuadraticAprox.D1 import Approx\n",
    "from numpy import linspace"
   ],
   "outputs": [],
   "execution_count": 20
  },
  {
   "metadata": {
    "ExecuteTime": {
     "end_time": "2025-03-16T15:37:32.211619Z",
     "start_time": "2025-03-16T15:37:32.204792Z"
    }
   },
   "cell_type": "code",
   "source": [
    "FILENAME = \"Data/test1.txt\"\n",
    "data: DataFrame = read_table(FILENAME, names=['x', 'y', 'weight'], sep=\"\\\\s+\")"
   ],
   "id": "7e4446a4e45ac542",
   "outputs": [],
   "execution_count": 21
  },
  {
   "metadata": {
    "ExecuteTime": {
     "end_time": "2025-03-16T15:37:32.232348Z",
     "start_time": "2025-03-16T15:37:32.222100Z"
    }
   },
   "cell_type": "code",
   "source": "data",
   "id": "ddbe637bdba3c40e",
   "outputs": [
    {
     "data": {
      "text/plain": [
       "      x      y  weight\n",
       "0   0.0  1.000   100.0\n",
       "1   2.5 -0.048     7.0\n",
       "2   5.0 -0.178     5.0\n",
       "3   7.5  0.266     0.1\n",
       "4  10.0 -0.246   100.0"
      ],
      "text/html": [
       "<div>\n",
       "<style scoped>\n",
       "    .dataframe tbody tr th:only-of-type {\n",
       "        vertical-align: middle;\n",
       "    }\n",
       "\n",
       "    .dataframe tbody tr th {\n",
       "        vertical-align: top;\n",
       "    }\n",
       "\n",
       "    .dataframe thead th {\n",
       "        text-align: right;\n",
       "    }\n",
       "</style>\n",
       "<table border=\"1\" class=\"dataframe\">\n",
       "  <thead>\n",
       "    <tr style=\"text-align: right;\">\n",
       "      <th></th>\n",
       "      <th>x</th>\n",
       "      <th>y</th>\n",
       "      <th>weight</th>\n",
       "    </tr>\n",
       "  </thead>\n",
       "  <tbody>\n",
       "    <tr>\n",
       "      <th>0</th>\n",
       "      <td>0.0</td>\n",
       "      <td>1.000</td>\n",
       "      <td>100.0</td>\n",
       "    </tr>\n",
       "    <tr>\n",
       "      <th>1</th>\n",
       "      <td>2.5</td>\n",
       "      <td>-0.048</td>\n",
       "      <td>7.0</td>\n",
       "    </tr>\n",
       "    <tr>\n",
       "      <th>2</th>\n",
       "      <td>5.0</td>\n",
       "      <td>-0.178</td>\n",
       "      <td>5.0</td>\n",
       "    </tr>\n",
       "    <tr>\n",
       "      <th>3</th>\n",
       "      <td>7.5</td>\n",
       "      <td>0.266</td>\n",
       "      <td>0.1</td>\n",
       "    </tr>\n",
       "    <tr>\n",
       "      <th>4</th>\n",
       "      <td>10.0</td>\n",
       "      <td>-0.246</td>\n",
       "      <td>100.0</td>\n",
       "    </tr>\n",
       "  </tbody>\n",
       "</table>\n",
       "</div>"
      ]
     },
     "execution_count": 22,
     "metadata": {},
     "output_type": "execute_result"
    }
   ],
   "execution_count": 22
  },
  {
   "metadata": {
    "ExecuteTime": {
     "end_time": "2025-03-16T15:37:32.294877Z",
     "start_time": "2025-03-16T15:37:32.279282Z"
    }
   },
   "cell_type": "code",
   "source": "approx = Approx(data, power=5)",
   "id": "3daa7438e650768",
   "outputs": [],
   "execution_count": 23
  },
  {
   "metadata": {
    "ExecuteTime": {
     "end_time": "2025-03-16T15:37:32.372109Z",
     "start_time": "2025-03-16T15:37:32.365970Z"
    }
   },
   "cell_type": "code",
   "source": "approx.coefficients()",
   "id": "2c02715dcaa6d6a7",
   "outputs": [
    {
     "data": {
      "text/plain": [
       "array([ 1.        , -0.53006667,  0.01398667,  0.01530667, -0.00126507])"
      ]
     },
     "execution_count": 24,
     "metadata": {},
     "output_type": "execute_result"
    }
   ],
   "execution_count": 24
  },
  {
   "metadata": {
    "ExecuteTime": {
     "end_time": "2025-03-16T15:37:32.456773Z",
     "start_time": "2025-03-16T15:37:32.453423Z"
    }
   },
   "cell_type": "code",
   "source": "X = linspace(min(data.x), max(data.x), 100)",
   "id": "92aee528dfb81602",
   "outputs": [],
   "execution_count": 25
  },
  {
   "metadata": {
    "ExecuteTime": {
     "end_time": "2025-03-16T15:37:32.646771Z",
     "start_time": "2025-03-16T15:37:32.480289Z"
    }
   },
   "cell_type": "code",
   "source": [
    "plt.scatter(data['x'], data['y'])\n",
    "plt.plot(X, [approx(x) for x in X])"
   ],
   "id": "ccf98c20ecb5969f",
   "outputs": [
    {
     "data": {
      "text/plain": [
       "[<matplotlib.lines.Line2D at 0x2143f9c9950>]"
      ]
     },
     "execution_count": 26,
     "metadata": {},
     "output_type": "execute_result"
    },
    {
     "data": {
      "text/plain": [
       "<Figure size 640x480 with 1 Axes>"
      ],
      "image/png": "[encoded data removed]"
     },
     "metadata": {},
     "output_type": "display_data"
    }
   ],
   "execution_count": 26
  },
  {
   "metadata": {},
   "cell_type": "code",
   "outputs": [],
   "execution_count": null,
   "source": "",
   "id": "33cc1fe912ae5bbb"
  }
 ],
 "metadata": {
  "kernelspec": {
   "display_name": "Python 3",
   "language": "python",
   "name": "python3"
  },
  "language_info": {
   "codemirror_mode": {
    "name": "ipython",
    "version": 2
   },
   "file_extension": ".py",
   "mimetype": "text/x-python",
   "name": "python",
   "nbconvert_exporter": "python",
   "pygments_lexer": "ipython2",
   "version": "2.7.6"
  }
 },
 "nbformat": 4,
 "nbformat_minor": 5
}
