{
 "cells": [
  {
   "cell_type": "code",
   "id": "initial_id",
   "metadata": {
    "collapsed": true,
    "ExecuteTime": {
     "end_time": "2025-04-02T19:46:25.687393Z",
     "start_time": "2025-04-02T19:46:25.683378Z"
    }
   },
   "source": [
    "from Mathing.SuperIntegrator import Solver\n",
    "from math import pow, exp, sqrt, pi\n",
    "from numpy import linspace\n",
    "from matplotlib import pyplot as plt"
   ],
   "outputs": [],
   "execution_count": 5
  },
  {
   "metadata": {
    "ExecuteTime": {
     "end_time": "2025-04-02T19:46:25.703203Z",
     "start_time": "2025-04-02T19:46:25.699810Z"
    }
   },
   "cell_type": "code",
   "source": [
    "def f(x: float) -> float:\n",
    "\treturn exp(-1 * pow(x, 2) / 2) * 2 / sqrt(2 * pi)"
   ],
   "id": "70148d253ad8084f",
   "outputs": [],
   "execution_count": 6
  },
  {
   "metadata": {
    "ExecuteTime": {
     "end_time": "2025-04-02T19:46:25.716279Z",
     "start_time": "2025-04-02T19:46:25.712345Z"
    }
   },
   "cell_type": "code",
   "source": [
    "solver = Solver(f)\n",
    "LOWER_BOUND = 0\n"
   ],
   "id": "c2712fa71e9cc24e",
   "outputs": [],
   "execution_count": 7
  },
  {
   "metadata": {
    "ExecuteTime": {
     "end_time": "2025-04-02T19:46:25.728558Z",
     "start_time": "2025-04-02T19:46:25.724948Z"
    }
   },
   "cell_type": "code",
   "source": "#solver.simpson(-100, 100)",
   "id": "ac7bde5a4c587aa9",
   "outputs": [],
   "execution_count": 8
  },
  {
   "metadata": {
    "ExecuteTime": {
     "end_time": "2025-04-02T19:46:25.744802Z",
     "start_time": "2025-04-02T19:46:25.740911Z"
    }
   },
   "cell_type": "code",
   "source": "#solver.trapezes(-100, 100)",
   "id": "6fa64bb60cb48f5c",
   "outputs": [],
   "execution_count": 9
  },
  {
   "metadata": {
    "ExecuteTime": {
     "end_time": "2025-04-02T19:46:35.824218Z",
     "start_time": "2025-04-02T19:46:34.263822Z"
    }
   },
   "cell_type": "code",
   "source": [
    "solver.STEP = 1e-5\n",
    "solver.solve(LOWER_BOUND, 0.3, (0, 2), solver.simpson)"
   ],
   "id": "558765a90e9b867",
   "outputs": [
    {
     "data": {
      "text/plain": [
       "0.38531000004149973"
      ]
     },
     "execution_count": 12,
     "metadata": {},
     "output_type": "execute_result"
    }
   ],
   "execution_count": 12
  },
  {
   "metadata": {
    "ExecuteTime": {
     "end_time": "2025-04-02T19:46:26.536901Z",
     "start_time": "2025-04-02T19:46:26.533715Z"
    }
   },
   "cell_type": "code",
   "source": [
    "# X = linspace(-10, 10, 100)\n",
    "# plt.plot(X, [solver.trapezes(LOWER_BOUND, x)  for x in X])\n",
    "# plt.plot(X, [solver.simpson(LOWER_BOUND, x) for x in X])"
   ],
   "id": "2850dc8f60e5892d",
   "outputs": [],
   "execution_count": 11
  }
 ],
 "metadata": {
  "kernelspec": {
   "display_name": "Python 3",
   "language": "python",
   "name": "python3"
  },
  "language_info": {
   "codemirror_mode": {
    "name": "ipython",
    "version": 2
   },
   "file_extension": ".py",
   "mimetype": "text/x-python",
   "name": "python",
   "nbconvert_exporter": "python",
   "pygments_lexer": "ipython2",
   "version": "2.7.6"
  }
 },
 "nbformat": 4,
 "nbformat_minor": 5
}
