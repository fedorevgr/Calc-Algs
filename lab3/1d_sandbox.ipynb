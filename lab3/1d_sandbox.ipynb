{
 "cells": [
  {
   "cell_type": "code",
   "id": "initial_id",
   "metadata": {
    "collapsed": true,
    "ExecuteTime": {
     "end_time": "2025-03-22T08:14:30.223880Z",
     "start_time": "2025-03-22T08:14:30.220894Z"
    }
   },
   "source": [
    "from matplotlib import pyplot as plt\n",
    "from pandas import DataFrame, read_table\n",
    "from QuadraticAprox.D1 import Approx\n",
    "from numpy import linspace"
   ],
   "outputs": [],
   "execution_count": 129
  },
  {
   "metadata": {
    "ExecuteTime": {
     "end_time": "2025-03-22T08:14:30.237274Z",
     "start_time": "2025-03-22T08:14:30.233506Z"
    }
   },
   "cell_type": "code",
   "source": [
    "FILENAME = \"Data/test2.txt\"\n",
    "data: DataFrame = read_table(FILENAME, names=['x', 'y', 'weight'], sep=\"\\\\s+\")"
   ],
   "id": "7e4446a4e45ac542",
   "outputs": [],
   "execution_count": 130
  },
  {
   "metadata": {
    "ExecuteTime": {
     "end_time": "2025-03-22T08:14:30.255174Z",
     "start_time": "2025-03-22T08:14:30.248122Z"
    }
   },
   "cell_type": "code",
   "source": "data",
   "id": "ddbe637bdba3c40e",
   "outputs": [
    {
     "data": {
      "text/plain": [
       "       x       y  weight\n",
       "0  0.000  -0.648   1.300\n",
       "1  0.524  -0.576   1.051\n",
       "2  1.047  -0.074   8.261\n",
       "3  1.571   1.290  51.754\n",
       "4  2.094   3.946  10.285\n",
       "5  2.618   8.324   1.378\n",
       "6  3.142  14.855   2.233"
      ],
      "text/html": [
       "<div>\n",
       "<style scoped>\n",
       "    .dataframe tbody tr th:only-of-type {\n",
       "        vertical-align: middle;\n",
       "    }\n",
       "\n",
       "    .dataframe tbody tr th {\n",
       "        vertical-align: top;\n",
       "    }\n",
       "\n",
       "    .dataframe thead th {\n",
       "        text-align: right;\n",
       "    }\n",
       "</style>\n",
       "<table border=\"1\" class=\"dataframe\">\n",
       "  <thead>\n",
       "    <tr style=\"text-align: right;\">\n",
       "      <th></th>\n",
       "      <th>x</th>\n",
       "      <th>y</th>\n",
       "      <th>weight</th>\n",
       "    </tr>\n",
       "  </thead>\n",
       "  <tbody>\n",
       "    <tr>\n",
       "      <th>0</th>\n",
       "      <td>0.000</td>\n",
       "      <td>-0.648</td>\n",
       "      <td>1.300</td>\n",
       "    </tr>\n",
       "    <tr>\n",
       "      <th>1</th>\n",
       "      <td>0.524</td>\n",
       "      <td>-0.576</td>\n",
       "      <td>1.051</td>\n",
       "    </tr>\n",
       "    <tr>\n",
       "      <th>2</th>\n",
       "      <td>1.047</td>\n",
       "      <td>-0.074</td>\n",
       "      <td>8.261</td>\n",
       "    </tr>\n",
       "    <tr>\n",
       "      <th>3</th>\n",
       "      <td>1.571</td>\n",
       "      <td>1.290</td>\n",
       "      <td>51.754</td>\n",
       "    </tr>\n",
       "    <tr>\n",
       "      <th>4</th>\n",
       "      <td>2.094</td>\n",
       "      <td>3.946</td>\n",
       "      <td>10.285</td>\n",
       "    </tr>\n",
       "    <tr>\n",
       "      <th>5</th>\n",
       "      <td>2.618</td>\n",
       "      <td>8.324</td>\n",
       "      <td>1.378</td>\n",
       "    </tr>\n",
       "    <tr>\n",
       "      <th>6</th>\n",
       "      <td>3.142</td>\n",
       "      <td>14.855</td>\n",
       "      <td>2.233</td>\n",
       "    </tr>\n",
       "  </tbody>\n",
       "</table>\n",
       "</div>"
      ]
     },
     "execution_count": 131,
     "metadata": {},
     "output_type": "execute_result"
    }
   ],
   "execution_count": 131
  },
  {
   "metadata": {
    "ExecuteTime": {
     "end_time": "2025-03-22T08:14:30.288158Z",
     "start_time": "2025-03-22T08:14:30.284555Z"
    }
   },
   "cell_type": "code",
   "source": "approx = Approx(data, power=2)",
   "id": "3daa7438e650768",
   "outputs": [],
   "execution_count": 132
  },
  {
   "metadata": {
    "ExecuteTime": {
     "end_time": "2025-03-22T08:14:30.315333Z",
     "start_time": "2025-03-22T08:14:30.311975Z"
    }
   },
   "cell_type": "code",
   "source": "approx.coefficients()",
   "id": "2c02715dcaa6d6a7",
   "outputs": [
    {
     "data": {
      "text/plain": [
       "array([-6.09825369,  5.01357234])"
      ]
     },
     "execution_count": 133,
     "metadata": {},
     "output_type": "execute_result"
    }
   ],
   "execution_count": 133
  },
  {
   "metadata": {
    "ExecuteTime": {
     "end_time": "2025-03-22T08:14:30.330025Z",
     "start_time": "2025-03-22T08:14:30.328025Z"
    }
   },
   "cell_type": "code",
   "source": "X = linspace(min(data.x), max(data.x), 100)",
   "id": "92aee528dfb81602",
   "outputs": [],
   "execution_count": 134
  },
  {
   "metadata": {
    "ExecuteTime": {
     "end_time": "2025-03-22T08:14:30.352058Z",
     "start_time": "2025-03-22T08:14:30.350360Z"
    }
   },
   "cell_type": "code",
   "source": "",
   "id": "ccf98c20ecb5969f",
   "outputs": [],
   "execution_count": null
  },
  {
   "metadata": {
    "ExecuteTime": {
     "end_time": "2025-03-22T08:14:30.361382Z",
     "start_time": "2025-03-22T08:14:30.359758Z"
    }
   },
   "cell_type": "code",
   "source": "",
   "id": "33cc1fe912ae5bbb",
   "outputs": [],
   "execution_count": null
  },
  {
   "metadata": {
    "ExecuteTime": {
     "end_time": "2025-03-22T08:14:30.369840Z",
     "start_time": "2025-03-22T08:14:30.368558Z"
    }
   },
   "cell_type": "code",
   "source": "",
   "id": "ae66efae92892fab",
   "outputs": [],
   "execution_count": null
  },
  {
   "metadata": {
    "ExecuteTime": {
     "end_time": "2025-03-22T08:14:30.382558Z",
     "start_time": "2025-03-22T08:14:30.379631Z"
    }
   },
   "cell_type": "code",
   "source": [
    "from numpy import dot\n",
    "dot(data.weight, data.x) / sum(data.weight)"
   ],
   "id": "804410a95ae080ce",
   "outputs": [
    {
     "data": {
      "text/plain": [
       "np.float64(1.6084813537541631)"
      ]
     },
     "execution_count": 135,
     "metadata": {},
     "output_type": "execute_result"
    }
   ],
   "execution_count": 135
  }
 ],
 "metadata": {
  "kernelspec": {
   "display_name": "Python 3",
   "language": "python",
   "name": "python3"
  },
  "language_info": {
   "codemirror_mode": {
    "name": "ipython",
    "version": 2
   },
   "file_extension": ".py",
   "mimetype": "text/x-python",
   "name": "python",
   "nbconvert_exporter": "python",
   "pygments_lexer": "ipython2",
   "version": "2.7.6"
  }
 },
 "nbformat": 4,
 "nbformat_minor": 5
}
