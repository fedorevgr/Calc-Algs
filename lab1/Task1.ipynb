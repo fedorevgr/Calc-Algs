{
 "cells": [
  {
   "cell_type": "code",
   "id": "initial_id",
   "metadata": {
    "collapsed": true,
    "ExecuteTime": {
     "end_time": "2025-03-01T07:46:12.093401Z",
     "start_time": "2025-03-01T07:46:11.590057Z"
    }
   },
   "source": [
    "from pandas import DataFrame\n",
    "\n",
    "from src.Math import InterpolationTable\n",
    "from src.Table import Table\n",
    "import numpy as np\n",
    "\n",
    "from matplotlib import pyplot as plt"
   ],
   "outputs": [],
   "execution_count": 1
  },
  {
   "metadata": {
    "ExecuteTime": {
     "end_time": "2025-03-01T07:46:12.117637Z",
     "start_time": "2025-03-01T07:46:12.114891Z"
    }
   },
   "cell_type": "code",
   "source": "DATA_FILE: str = \"data/data.txt\"",
   "id": "e5ced2fc932e4f9",
   "outputs": [],
   "execution_count": 2
  },
  {
   "metadata": {
    "ExecuteTime": {
     "end_time": "2025-03-01T07:46:12.183445Z",
     "start_time": "2025-03-01T07:46:12.181936Z"
    }
   },
   "cell_type": "code",
   "source": [
    "x = 1.54\n",
    "POWER: int = 5"
   ],
   "id": "b8ce97d640622afc",
   "outputs": [],
   "execution_count": 3
  },
  {
   "metadata": {
    "ExecuteTime": {
     "end_time": "2025-03-01T07:46:12.193880Z",
     "start_time": "2025-03-01T07:46:12.190670Z"
    }
   },
   "cell_type": "code",
   "source": [
    "table: Table = Table(DATA_FILE)\n",
    "data: DataFrame = DataFrame(table.data, dtype=\"float64\")"
   ],
   "id": "e9a61eeb5eef27b5",
   "outputs": [],
   "execution_count": 4
  },
  {
   "metadata": {
    "ExecuteTime": {
     "end_time": "2025-03-01T07:46:12.222577Z",
     "start_time": "2025-03-01T07:46:12.201984Z"
    }
   },
   "cell_type": "code",
   "source": "meth = InterpolationTable.hermiteInterpolation(data,  16, x)",
   "id": "97f7314280e41d2c",
   "outputs": [],
   "execution_count": 5
  },
  {
   "metadata": {
    "ExecuteTime": {
     "end_time": "2025-03-01T07:46:12.253519Z",
     "start_time": "2025-03-01T07:46:12.231018Z"
    }
   },
   "cell_type": "code",
   "source": "print(InterpolationTable.hermiteInterpolation(data,  16, x))",
   "id": "8c1ef3dae11222a9",
   "outputs": [
    {
     "name": "stdout",
     "output_type": "stream",
     "text": [
      "    arg  f(arg)  f(x_0 x_1)  f(x_0 x_1 x_2)  f(x_0 x_1 x_2 x_3)  \\\n",
      "0   1.0   0.909       0.168         -1.6900              0.8250   \n",
      "1   1.0   0.909      -0.170         -1.5250              0.8700   \n",
      "2   1.2   0.875      -0.475         -1.3510              1.1300   \n",
      "3   1.2   0.875      -0.475         -1.1250              1.0250   \n",
      "4   1.2   0.875      -0.700         -0.9200              1.2500   \n",
      "5   1.4   0.735      -0.884         -0.6700              1.3250   \n",
      "6   1.4   0.735      -0.884         -0.4050              1.2250   \n",
      "7   1.4   0.735      -0.965         -0.1600              1.3825   \n",
      "8   1.6   0.542      -0.997          0.1165              1.2175   \n",
      "9   1.6   0.542      -0.997          0.3600              1.4750   \n",
      "10  1.6   0.542      -0.925          0.6550              1.1500   \n",
      "11  1.8   0.357      -0.794          0.8850              1.1750   \n",
      "12  1.8   0.357      -0.794          1.1200              0.9750   \n",
      "13  1.8   0.357      -0.570          1.3150              0.9925   \n",
      "14  2.0   0.243      -0.307          1.5135                 NaN   \n",
      "15  2.0   0.243      -0.307             NaN                 NaN   \n",
      "16  2.0   0.243         NaN             NaN                 NaN   \n",
      "\n",
      "    f(x_0 x_1 x_2 x_3 x_4)  f(x_0 x_1 x_2 x_3 x_4 x_5)  \\\n",
      "0                   0.2250                     1.06250   \n",
      "1                   0.6500                    -2.93750   \n",
      "2                  -0.5250                     8.25000   \n",
      "3                   1.1250                    -2.34375   \n",
      "4                   0.1875                    -1.71875   \n",
      "5                  -0.5000                     6.43750   \n",
      "6                   0.7875                    -3.00000   \n",
      "7                  -0.4125                     4.25000   \n",
      "8                   1.2875                   -14.56250   \n",
      "9                  -1.6250                     4.21875   \n",
      "10                  0.0625                    -2.65625   \n",
      "11                 -1.0000                     5.43750   \n",
      "12                  0.0875                         NaN   \n",
      "13                     NaN                         NaN   \n",
      "14                     NaN                         NaN   \n",
      "15                     NaN                         NaN   \n",
      "16                     NaN                         NaN   \n",
      "\n",
      "    f(x_0 x_1 x_2 x_3 x_4 x_5 x_6)  f(x_0 x_1 x_2 x_3 x_4 x_5 x_6 x_7)  \\\n",
      "0                       -10.000000                           94.921875   \n",
      "1                        27.968750                          -90.755208   \n",
      "2                       -26.484375                           70.117187   \n",
      "3                         1.562500                           47.070313   \n",
      "4                        20.390625                          -73.307292   \n",
      "5                       -23.593750                          104.296875   \n",
      "6                        18.125000                         -162.890625   \n",
      "7                       -47.031250                          156.640625   \n",
      "8                        46.953125                         -160.351563   \n",
      "9                       -17.187500                           93.554688   \n",
      "10                       20.234375                                 NaN   \n",
      "11                             NaN                                 NaN   \n",
      "12                             NaN                                 NaN   \n",
      "13                             NaN                                 NaN   \n",
      "14                             NaN                                 NaN   \n",
      "15                             NaN                                 NaN   \n",
      "16                             NaN                                 NaN   \n",
      "\n",
      "    f(x_0 x_1 x_2 x_3 x_4 x_5 x_6 x_7 x_8)  \\\n",
      "0                              -309.461806   \n",
      "1                               268.120660   \n",
      "2                               -57.617187   \n",
      "3                              -200.629340   \n",
      "4                               296.006944   \n",
      "5                              -667.968750   \n",
      "6                               532.552083   \n",
      "7                              -528.320313   \n",
      "8                               634.765625   \n",
      "9                                      NaN   \n",
      "10                                     NaN   \n",
      "11                                     NaN   \n",
      "12                                     NaN   \n",
      "13                                     NaN   \n",
      "14                                     NaN   \n",
      "15                                     NaN   \n",
      "16                                     NaN   \n",
      "\n",
      "    f(x_0 x_1 x_2 x_3 x_4 x_5 x_6 x_7 x_8 x_9)  \\\n",
      "0                                   962.637442   \n",
      "1                                  -542.896412   \n",
      "2                                  -238.353588   \n",
      "3                                   827.727141   \n",
      "4                                 -1606.626157   \n",
      "5                                  2000.868056   \n",
      "6                                 -1768.120660   \n",
      "7                                  1938.476563   \n",
      "8                                          NaN   \n",
      "9                                          NaN   \n",
      "10                                         NaN   \n",
      "11                                         NaN   \n",
      "12                                         NaN   \n",
      "13                                         NaN   \n",
      "14                                         NaN   \n",
      "15                                         NaN   \n",
      "16                                         NaN   \n",
      "\n",
      "    f(x_0 x_1 x_2 x_3 x_4 x_5 x_6 x_7 x_8 x_9 x_10)  \\\n",
      "0                                      -2509.223090   \n",
      "1                                        380.678530   \n",
      "2                                       1776.801215   \n",
      "3                                      -4057.255498   \n",
      "4                                       4509.367766   \n",
      "5                                      -6281.647859   \n",
      "6                                       6177.662037   \n",
      "7                                               NaN   \n",
      "8                                               NaN   \n",
      "9                                               NaN   \n",
      "10                                              NaN   \n",
      "11                                              NaN   \n",
      "12                                              NaN   \n",
      "13                                              NaN   \n",
      "14                                              NaN   \n",
      "15                                              NaN   \n",
      "16                                              NaN   \n",
      "\n",
      "    f(x_0 x_1 x_2 x_3 x_4 x_5 x_6 x_7 x_8 x_9 x_10 x_11)  \\\n",
      "0                                         3612.377025      \n",
      "1                                         1745.153356      \n",
      "2                                        -9723.427855      \n",
      "3                                        10708.279080      \n",
      "4                                       -13488.769531      \n",
      "5                                        20765.516493      \n",
      "6                                                 NaN      \n",
      "7                                                 NaN      \n",
      "8                                                 NaN      \n",
      "9                                                 NaN      \n",
      "10                                                NaN      \n",
      "11                                                NaN      \n",
      "12                                                NaN      \n",
      "13                                                NaN      \n",
      "14                                                NaN      \n",
      "15                                                NaN      \n",
      "16                                                NaN      \n",
      "\n",
      "    f(x_0 x_1 x_2 x_3 x_4 x_5 x_6 x_7 x_8 x_9 x_10 x_11 x_12)  \\\n",
      "0                                        -2334.029586           \n",
      "1                                       -14335.726514           \n",
      "2                                        25539.633669           \n",
      "3                                       -30246.310764           \n",
      "4                                        42817.857530           \n",
      "5                                                 NaN           \n",
      "6                                                 NaN           \n",
      "7                                                 NaN           \n",
      "8                                                 NaN           \n",
      "9                                                 NaN           \n",
      "10                                                NaN           \n",
      "11                                                NaN           \n",
      "12                                                NaN           \n",
      "13                                                NaN           \n",
      "14                                                NaN           \n",
      "15                                                NaN           \n",
      "16                                                NaN           \n",
      "\n",
      "    f(x_0 x_1 x_2 x_3 x_4 x_5 x_6 x_7 x_8 x_9 x_10 x_11 x_12 x_13)  \\\n",
      "0                                       -15002.121160                \n",
      "1                                        39875.360183                \n",
      "2                                       -69732.430541                \n",
      "3                                        91330.210368                \n",
      "4                                                 NaN                \n",
      "5                                                 NaN                \n",
      "6                                                 NaN                \n",
      "7                                                 NaN                \n",
      "8                                                 NaN                \n",
      "9                                                 NaN                \n",
      "10                                                NaN                \n",
      "11                                                NaN                \n",
      "12                                                NaN                \n",
      "13                                                NaN                \n",
      "14                                                NaN                \n",
      "15                                                NaN                \n",
      "16                                                NaN                \n",
      "\n",
      "    f(x_0 x_1 x_2 x_3 x_4 x_5 x_6 x_7 x_8 x_9 x_10 x_11 x_12 x_13 x_14)  \\\n",
      "0                                        54877.481343                     \n",
      "1                                      -109607.790723                     \n",
      "2                                       201328.301135                     \n",
      "3                                                 NaN                     \n",
      "4                                                 NaN                     \n",
      "5                                                 NaN                     \n",
      "6                                                 NaN                     \n",
      "7                                                 NaN                     \n",
      "8                                                 NaN                     \n",
      "9                                                 NaN                     \n",
      "10                                                NaN                     \n",
      "11                                                NaN                     \n",
      "12                                                NaN                     \n",
      "13                                                NaN                     \n",
      "14                                                NaN                     \n",
      "15                                                NaN                     \n",
      "16                                                NaN                     \n",
      "\n",
      "    f(x_0 x_1 x_2 x_3 x_4 x_5 x_6 x_7 x_8 x_9 x_10 x_11 x_12 x_13 x_14 x_15)  \\\n",
      "0                                      -164485.272066                          \n",
      "1                                       310936.091859                          \n",
      "2                                                 NaN                          \n",
      "3                                                 NaN                          \n",
      "4                                                 NaN                          \n",
      "5                                                 NaN                          \n",
      "6                                                 NaN                          \n",
      "7                                                 NaN                          \n",
      "8                                                 NaN                          \n",
      "9                                                 NaN                          \n",
      "10                                                NaN                          \n",
      "11                                                NaN                          \n",
      "12                                                NaN                          \n",
      "13                                                NaN                          \n",
      "14                                                NaN                          \n",
      "15                                                NaN                          \n",
      "16                                                NaN                          \n",
      "\n",
      "    f(x_0 x_1 x_2 x_3 x_4 x_5 x_6 x_7 x_8 x_9 x_10 x_11 x_12 x_13 x_14 x_15 x_16)  \n",
      "0                                       475421.363925                              \n",
      "1                                                 NaN                              \n",
      "2                                                 NaN                              \n",
      "3                                                 NaN                              \n",
      "4                                                 NaN                              \n",
      "5                                                 NaN                              \n",
      "6                                                 NaN                              \n",
      "7                                                 NaN                              \n",
      "8                                                 NaN                              \n",
      "9                                                 NaN                              \n",
      "10                                                NaN                              \n",
      "11                                                NaN                              \n",
      "12                                                NaN                              \n",
      "13                                                NaN                              \n",
      "14                                                NaN                              \n",
      "15                                                NaN                              \n",
      "16                                                NaN                              \n"
     ]
    }
   ],
   "execution_count": 6
  },
  {
   "metadata": {
    "ExecuteTime": {
     "end_time": "2025-03-01T07:46:12.282907Z",
     "start_time": "2025-03-01T07:46:12.262489Z"
    }
   },
   "cell_type": "code",
   "source": [
    "# print(InterpolationTable.hermiteInterpolation(data,  16, x))\n",
    "print(InterpolationTable.hermiteInterpolation(data,  16, x)(x))"
   ],
   "id": "921715f8e9d0b29",
   "outputs": [
    {
     "name": "stdout",
     "output_type": "stream",
     "text": [
      "0.6019221255504479\n"
     ]
    }
   ],
   "execution_count": 7
  },
  {
   "metadata": {
    "ExecuteTime": {
     "end_time": "2025-03-01T07:46:12.497896Z",
     "start_time": "2025-03-01T07:46:12.291393Z"
    }
   },
   "cell_type": "code",
   "source": [
    "x = np.linspace(data[\"x\"].min(), data[\"x\"].max(), 500)\n",
    "y = list(map(meth, x))\n",
    "\n",
    "plt.ylim(-1, 2)\n",
    "plt.scatter(data[\"x\"], data[\"y\"])\n",
    "plt.plot(x, y, linestyle='--')\n",
    "plt.show()"
   ],
   "id": "8699166c6a9153bb",
   "outputs": [
    {
     "data": {
      "text/plain": [
       "<Figure size 640x480 with 1 Axes>"
      ],
      "image/png": "[encoded data removed]"
     },
     "metadata": {},
     "output_type": "display_data"
    }
   ],
   "execution_count": 8
  }
 ],
 "metadata": {
  "kernelspec": {
   "display_name": "Python 3",
   "language": "python",
   "name": "python3"
  },
  "language_info": {
   "codemirror_mode": {
    "name": "ipython",
    "version": 2
   },
   "file_extension": ".py",
   "mimetype": "text/x-python",
   "name": "python",
   "nbconvert_exporter": "python",
   "pygments_lexer": "ipython2",
   "version": "2.7.6"
  }
 },
 "nbformat": 4,
 "nbformat_minor": 5
}
