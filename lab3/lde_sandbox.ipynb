{
 "cells": [
  {
   "metadata": {
    "ExecuteTime": {
     "end_time": "2025-03-17T18:25:16.279705Z",
     "start_time": "2025-03-17T18:25:16.274907Z"
    }
   },
   "cell_type": "code",
   "source": [
    "from matplotlib import pyplot as plt\n",
    "from pandas import DataFrame, read_table\n",
    "from QuadraticAprox.LDE import Approx\n",
    "from numpy import linspace"
   ],
   "id": "75f421c8c395cd35",
   "outputs": [],
   "execution_count": 6
  },
  {
   "metadata": {
    "ExecuteTime": {
     "end_time": "2025-03-17T18:25:16.304073Z",
     "start_time": "2025-03-17T18:25:16.299380Z"
    }
   },
   "cell_type": "code",
   "source": "data = DataFrame({\"x\": [0, 1], \"y\": [1, 0]})",
   "id": "9e74c11e3ccc1428",
   "outputs": [],
   "execution_count": 7
  },
  {
   "metadata": {
    "ExecuteTime": {
     "end_time": "2025-03-17T18:25:16.317240Z",
     "start_time": "2025-03-17T18:25:16.314551Z"
    }
   },
   "cell_type": "code",
   "source": "",
   "id": "55798540965c50a6",
   "outputs": [],
   "execution_count": null
  },
  {
   "metadata": {
    "ExecuteTime": {
     "end_time": "2025-03-17T18:25:16.341674Z",
     "start_time": "2025-03-17T18:25:16.332573Z"
    }
   },
   "cell_type": "code",
   "source": " data\n",
   "id": "8ce7b21ddf0a61a7",
   "outputs": [
    {
     "data": {
      "text/plain": [
       "   x  y\n",
       "0  0  1\n",
       "1  1  0"
      ],
      "text/html": [
       "<div>\n",
       "<style scoped>\n",
       "    .dataframe tbody tr th:only-of-type {\n",
       "        vertical-align: middle;\n",
       "    }\n",
       "\n",
       "    .dataframe tbody tr th {\n",
       "        vertical-align: top;\n",
       "    }\n",
       "\n",
       "    .dataframe thead th {\n",
       "        text-align: right;\n",
       "    }\n",
       "</style>\n",
       "<table border=\"1\" class=\"dataframe\">\n",
       "  <thead>\n",
       "    <tr style=\"text-align: right;\">\n",
       "      <th></th>\n",
       "      <th>x</th>\n",
       "      <th>y</th>\n",
       "    </tr>\n",
       "  </thead>\n",
       "  <tbody>\n",
       "    <tr>\n",
       "      <th>0</th>\n",
       "      <td>0</td>\n",
       "      <td>1</td>\n",
       "    </tr>\n",
       "    <tr>\n",
       "      <th>1</th>\n",
       "      <td>1</td>\n",
       "      <td>0</td>\n",
       "    </tr>\n",
       "  </tbody>\n",
       "</table>\n",
       "</div>"
      ]
     },
     "execution_count": 8,
     "metadata": {},
     "output_type": "execute_result"
    }
   ],
   "execution_count": 8
  },
  {
   "metadata": {
    "jupyter": {
     "is_executing": true
    },
    "ExecuteTime": {
     "end_time": "2025-03-17T18:27:41.260339600Z",
     "start_time": "2025-03-17T18:25:48.337982Z"
    }
   },
   "cell_type": "code",
   "source": "approx = Approx(data, p=lambda x:x, g=lambda x:1, f=lambda x:2*x)",
   "id": "5c3787529df0cca9",
   "outputs": [],
   "execution_count": null
  },
  {
   "metadata": {},
   "cell_type": "code",
   "outputs": [],
   "execution_count": null,
   "source": "approx.coefficients()",
   "id": "1d058952d63c0d92"
  }
 ],
 "metadata": {
  "kernelspec": {
   "display_name": "Python 3",
   "language": "python",
   "name": "python3"
  },
  "language_info": {
   "codemirror_mode": {
    "name": "ipython",
    "version": 2
   },
   "file_extension": ".py",
   "mimetype": "text/x-python",
   "name": "python",
   "nbconvert_exporter": "python",
   "pygments_lexer": "ipython2",
   "version": "2.7.6"
  }
 },
 "nbformat": 4,
 "nbformat_minor": 5
}
