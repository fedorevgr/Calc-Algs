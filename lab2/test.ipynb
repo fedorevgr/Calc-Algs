{
 "cells": [
  {
   "metadata": {
    "ExecuteTime": {
     "end_time": "2025-03-05T17:28:58.705897Z",
     "start_time": "2025-03-05T17:28:57.841196Z"
    }
   },
   "cell_type": "code",
   "source": [
    "from matplotlib import pyplot as plt\n",
    "from pandas import DataFrame\n",
    "from src.Math.Spline import SplineInterpolation\n",
    "from numpy import linspace, sin"
   ],
   "id": "5f308eac63ee1569",
   "outputs": [],
   "execution_count": 1
  },
  {
   "metadata": {
    "ExecuteTime": {
     "end_time": "2025-03-05T17:28:58.710181Z",
     "start_time": "2025-03-05T17:28:58.706873Z"
    }
   },
   "cell_type": "code",
   "source": "func = lambda x: x**2",
   "id": "2b7f51c0a6bdbc44",
   "outputs": [],
   "execution_count": 2
  },
  {
   "metadata": {
    "ExecuteTime": {
     "end_time": "2025-03-05T17:28:58.713961Z",
     "start_time": "2025-03-05T17:28:58.711180Z"
    }
   },
   "cell_type": "code",
   "source": [
    "LEFT = 0\n",
    "RIGHT = 5"
   ],
   "id": "117bbd22c70800c3",
   "outputs": [],
   "execution_count": 3
  },
  {
   "metadata": {
    "ExecuteTime": {
     "end_time": "2025-03-05T17:28:58.719302Z",
     "start_time": "2025-03-05T17:28:58.714941Z"
    }
   },
   "cell_type": "code",
   "source": [
    "TEST_SEG = 6\n",
    "\n",
    "X = linspace(LEFT, RIGHT, TEST_SEG)\n",
    "srcData = {\n",
    "    \"x\": X,\n",
    "    \"y\": list(map(func, X))\n",
    "}\n",
    "\n",
    "data = DataFrame(srcData)"
   ],
   "id": "ce3861ffa8ab1ad7",
   "outputs": [],
   "execution_count": 4
  },
  {
   "metadata": {
    "ExecuteTime": {
     "end_time": "2025-03-05T17:28:58.744597Z",
     "start_time": "2025-03-05T17:28:58.720296Z"
    }
   },
   "cell_type": "code",
   "source": "spline = SplineInterpolation(data)",
   "id": "d462981ce7c1f578",
   "outputs": [],
   "execution_count": 5
  },
  {
   "metadata": {
    "ExecuteTime": {
     "end_time": "2025-03-05T17:28:58.819340Z",
     "start_time": "2025-03-05T17:28:58.745570Z"
    }
   },
   "cell_type": "code",
   "source": [
    "X = linspace(LEFT, RIGHT, 200)\n",
    "Y = list(map(spline, X))"
   ],
   "id": "7a6d5c05953b396d",
   "outputs": [],
   "execution_count": 6
  },
  {
   "metadata": {
    "ExecuteTime": {
     "end_time": "2025-03-05T17:28:58.938877Z",
     "start_time": "2025-03-05T17:28:58.820339Z"
    }
   },
   "cell_type": "code",
   "source": [
    "plt.plot(X, Y)\n",
    "plt.scatter(data[\"x\"], data[\"y\"])\n",
    "plt.show()"
   ],
   "id": "8013c73b14b31f83",
   "outputs": [
    {
     "data": {
      "text/plain": [
       "<Figure size 640x480 with 1 Axes>"
      ],
      "image/png": "[encoded data removed]"
     },
     "metadata": {},
     "output_type": "display_data"
    }
   ],
   "execution_count": 7
  },
  {
   "metadata": {
    "ExecuteTime": {
     "end_time": "2025-03-05T17:28:58.956459Z",
     "start_time": "2025-03-05T17:28:58.940042Z"
    }
   },
   "cell_type": "code",
   "source": "spline.spline\n",
   "id": "2b8fcb6b62d994ef",
   "outputs": [
    {
     "data": {
      "text/plain": [
       "   x_i   y_i  h_i     A         B         C             D    F         k  \\\n",
       "0  NaN   NaN  NaN   NaN       NaN  0.000000           NaN  NaN       NaN   \n",
       "1  0.0   0.0  1.0   0.0  0.578947  0.000000  4.210526e-01  NaN       NaN   \n",
       "2  1.0   1.0  1.0   1.0  1.842105  1.263158 -1.052632e-01 -6.0  0.000000   \n",
       "3  2.0   4.0  1.0   4.0  4.052632  0.947368 -7.401487e-17 -6.0 -0.250000   \n",
       "4  3.0   9.0  1.0   9.0  5.947368  0.947368  1.052632e-01 -6.0 -0.266667   \n",
       "5  4.0  16.0  1.0  16.0  8.157895  1.263158 -4.210526e-01 -6.0 -0.267857   \n",
       "6  NaN   NaN  NaN   NaN       NaN  0.000000           NaN  NaN -0.267943   \n",
       "\n",
       "          n  \n",
       "0       NaN  \n",
       "1       NaN  \n",
       "2  0.000000  \n",
       "3  1.500000  \n",
       "4  1.200000  \n",
       "5  1.285714  \n",
       "6  1.263158  "
      ],
      "text/html": [
       "<div>\n",
       "<style scoped>\n",
       "    .dataframe tbody tr th:only-of-type {\n",
       "        vertical-align: middle;\n",
       "    }\n",
       "\n",
       "    .dataframe tbody tr th {\n",
       "        vertical-align: top;\n",
       "    }\n",
       "\n",
       "    .dataframe thead th {\n",
       "        text-align: right;\n",
       "    }\n",
       "</style>\n",
       "<table border=\"1\" class=\"dataframe\">\n",
       "  <thead>\n",
       "    <tr style=\"text-align: right;\">\n",
       "      <th></th>\n",
       "      <th>x_i</th>\n",
       "      <th>y_i</th>\n",
       "      <th>h_i</th>\n",
       "      <th>A</th>\n",
       "      <th>B</th>\n",
       "      <th>C</th>\n",
       "      <th>D</th>\n",
       "      <th>F</th>\n",
       "      <th>k</th>\n",
       "      <th>n</th>\n",
       "    </tr>\n",
       "  </thead>\n",
       "  <tbody>\n",
       "    <tr>\n",
       "      <th>0</th>\n",
       "      <td>NaN</td>\n",
       "      <td>NaN</td>\n",
       "      <td>NaN</td>\n",
       "      <td>NaN</td>\n",
       "      <td>NaN</td>\n",
       "      <td>0.000000</td>\n",
       "      <td>NaN</td>\n",
       "      <td>NaN</td>\n",
       "      <td>NaN</td>\n",
       "      <td>NaN</td>\n",
       "    </tr>\n",
       "    <tr>\n",
       "      <th>1</th>\n",
       "      <td>0.0</td>\n",
       "      <td>0.0</td>\n",
       "      <td>1.0</td>\n",
       "      <td>0.0</td>\n",
       "      <td>0.578947</td>\n",
       "      <td>0.000000</td>\n",
       "      <td>4.210526e-01</td>\n",
       "      <td>NaN</td>\n",
       "      <td>NaN</td>\n",
       "      <td>NaN</td>\n",
       "    </tr>\n",
       "    <tr>\n",
       "      <th>2</th>\n",
       "      <td>1.0</td>\n",
       "      <td>1.0</td>\n",
       "      <td>1.0</td>\n",
       "      <td>1.0</td>\n",
       "      <td>1.842105</td>\n",
       "      <td>1.263158</td>\n",
       "      <td>-1.052632e-01</td>\n",
       "      <td>-6.0</td>\n",
       "      <td>0.000000</td>\n",
       "      <td>0.000000</td>\n",
       "    </tr>\n",
       "    <tr>\n",
       "      <th>3</th>\n",
       "      <td>2.0</td>\n",
       "      <td>4.0</td>\n",
       "      <td>1.0</td>\n",
       "      <td>4.0</td>\n",
       "      <td>4.052632</td>\n",
       "      <td>0.947368</td>\n",
       "      <td>-7.401487e-17</td>\n",
       "      <td>-6.0</td>\n",
       "      <td>-0.250000</td>\n",
       "      <td>1.500000</td>\n",
       "    </tr>\n",
       "    <tr>\n",
       "      <th>4</th>\n",
       "      <td>3.0</td>\n",
       "      <td>9.0</td>\n",
       "      <td>1.0</td>\n",
       "      <td>9.0</td>\n",
       "      <td>5.947368</td>\n",
       "      <td>0.947368</td>\n",
       "      <td>1.052632e-01</td>\n",
       "      <td>-6.0</td>\n",
       "      <td>-0.266667</td>\n",
       "      <td>1.200000</td>\n",
       "    </tr>\n",
       "    <tr>\n",
       "      <th>5</th>\n",
       "      <td>4.0</td>\n",
       "      <td>16.0</td>\n",
       "      <td>1.0</td>\n",
       "      <td>16.0</td>\n",
       "      <td>8.157895</td>\n",
       "      <td>1.263158</td>\n",
       "      <td>-4.210526e-01</td>\n",
       "      <td>-6.0</td>\n",
       "      <td>-0.267857</td>\n",
       "      <td>1.285714</td>\n",
       "    </tr>\n",
       "    <tr>\n",
       "      <th>6</th>\n",
       "      <td>NaN</td>\n",
       "      <td>NaN</td>\n",
       "      <td>NaN</td>\n",
       "      <td>NaN</td>\n",
       "      <td>NaN</td>\n",
       "      <td>0.000000</td>\n",
       "      <td>NaN</td>\n",
       "      <td>NaN</td>\n",
       "      <td>-0.267943</td>\n",
       "      <td>1.263158</td>\n",
       "    </tr>\n",
       "  </tbody>\n",
       "</table>\n",
       "</div>"
      ]
     },
     "execution_count": 8,
     "metadata": {},
     "output_type": "execute_result"
    }
   ],
   "execution_count": 8
  },
  {
   "metadata": {
    "ExecuteTime": {
     "end_time": "2025-03-05T17:28:58.960113Z",
     "start_time": "2025-03-05T17:28:58.956563Z"
    }
   },
   "cell_type": "code",
   "source": "",
   "id": "e8e94aa95ee178f5",
   "outputs": [],
   "execution_count": 8
  }
 ],
 "metadata": {
  "kernelspec": {
   "display_name": "Python 3",
   "language": "python",
   "name": "python3"
  },
  "language_info": {
   "codemirror_mode": {
    "name": "ipython",
    "version": 2
   },
   "file_extension": ".py",
   "mimetype": "text/x-python",
   "name": "python",
   "nbconvert_exporter": "python",
   "pygments_lexer": "ipython2",
   "version": "2.7.6"
  }
 },
 "nbformat": 4,
 "nbformat_minor": 5
}
