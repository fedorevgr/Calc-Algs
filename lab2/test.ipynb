{
 "cells": [
  {
   "metadata": {
    "ExecuteTime": {
     "end_time": "2025-03-05T17:43:05.454241Z",
     "start_time": "2025-03-05T17:43:05.450998Z"
    }
   },
   "cell_type": "code",
   "source": [
    "from matplotlib import pyplot as plt\n",
    "from pandas import DataFrame\n",
    "from src.Math.Spline import SplineInterpolation\n",
    "from numpy import linspace, sin\n",
    "from math import erf, e, gamma, log"
   ],
   "id": "5f308eac63ee1569",
   "outputs": [],
   "execution_count": 17
  },
  {
   "metadata": {
    "ExecuteTime": {
     "end_time": "2025-03-05T17:43:05.476457Z",
     "start_time": "2025-03-05T17:43:05.472151Z"
    }
   },
   "cell_type": "code",
   "source": "func = lambda x: sin(x)",
   "id": "2b7f51c0a6bdbc44",
   "outputs": [],
   "execution_count": 18
  },
  {
   "metadata": {
    "ExecuteTime": {
     "end_time": "2025-03-05T17:43:05.482189Z",
     "start_time": "2025-03-05T17:43:05.478350Z"
    }
   },
   "cell_type": "code",
   "source": [
    "LEFT = 1\n",
    "RIGHT = 7"
   ],
   "id": "117bbd22c70800c3",
   "outputs": [],
   "execution_count": 19
  },
  {
   "metadata": {
    "ExecuteTime": {
     "end_time": "2025-03-05T17:43:05.492697Z",
     "start_time": "2025-03-05T17:43:05.488746Z"
    }
   },
   "cell_type": "code",
   "source": [
    "TEST_SEG = 20\n",
    "\n",
    "X = [1, 3, 4, 7] #linspace(LEFT, RIGHT, TEST_SEG)\n",
    "srcData = {\n",
    "    \"x\": X,\n",
    "    \"y\": list(map(func, X))\n",
    "}\n",
    "\n",
    "data = DataFrame(srcData)"
   ],
   "id": "ce3861ffa8ab1ad7",
   "outputs": [],
   "execution_count": 20
  },
  {
   "metadata": {
    "ExecuteTime": {
     "end_time": "2025-03-05T17:43:05.529330Z",
     "start_time": "2025-03-05T17:43:05.517255Z"
    }
   },
   "cell_type": "code",
   "source": "spline = SplineInterpolation(data)",
   "id": "d462981ce7c1f578",
   "outputs": [],
   "execution_count": 21
  },
  {
   "metadata": {
    "ExecuteTime": {
     "end_time": "2025-03-05T17:43:05.629692Z",
     "start_time": "2025-03-05T17:43:05.541256Z"
    }
   },
   "cell_type": "code",
   "source": [
    "X = linspace(LEFT, RIGHT, 200)\n",
    "Y = list(map(spline, X))"
   ],
   "id": "7a6d5c05953b396d",
   "outputs": [],
   "execution_count": 22
  },
  {
   "metadata": {
    "ExecuteTime": {
     "end_time": "2025-03-05T17:43:05.732114Z",
     "start_time": "2025-03-05T17:43:05.631630Z"
    }
   },
   "cell_type": "code",
   "source": [
    "plt.plot(X, Y)\n",
    "plt.scatter(data[\"x\"], data[\"y\"])\n",
    "plt.show()"
   ],
   "id": "8013c73b14b31f83",
   "outputs": [
    {
     "data": {
      "text/plain": [
       "<Figure size 640x480 with 1 Axes>"
      ],
      "image/png": "[encoded data removed]"
     },
     "metadata": {},
     "output_type": "display_data"
    }
   ],
   "execution_count": 23
  },
  {
   "metadata": {
    "ExecuteTime": {
     "end_time": "2025-03-05T17:43:05.745968Z",
     "start_time": "2025-03-05T17:43:05.733113Z"
    }
   },
   "cell_type": "code",
   "source": "spline.spline\n",
   "id": "2b8fcb6b62d994ef",
   "outputs": [
    {
     "data": {
      "text/plain": [
       "   x_i       y_i  h_i         A         B         C         D         F  \\\n",
       "0  NaN       NaN  NaN       NaN       NaN  0.000000       NaN       NaN   \n",
       "1  1.0  0.841471  2.0  0.841471 -0.105445  0.000000 -0.061183       NaN   \n",
       "2  3.0  0.141120  1.0  0.141120 -0.839636 -0.367095  0.308809  1.643241   \n",
       "3  4.0 -0.756802  3.0 -0.756802 -0.647400  0.559332 -0.062148 -4.107557   \n",
       "4  NaN       NaN  NaN       NaN       NaN  0.000000       NaN       NaN   \n",
       "\n",
       "          k         n  \n",
       "0       NaN       NaN  \n",
       "1       NaN       NaN  \n",
       "2  0.000000  0.000000  \n",
       "3 -0.166667 -0.273874  \n",
       "4 -0.382979  0.559332  "
      ],
      "text/html": [
       "<div>\n",
       "<style scoped>\n",
       "    .dataframe tbody tr th:only-of-type {\n",
       "        vertical-align: middle;\n",
       "    }\n",
       "\n",
       "    .dataframe tbody tr th {\n",
       "        vertical-align: top;\n",
       "    }\n",
       "\n",
       "    .dataframe thead th {\n",
       "        text-align: right;\n",
       "    }\n",
       "</style>\n",
       "<table border=\"1\" class=\"dataframe\">\n",
       "  <thead>\n",
       "    <tr style=\"text-align: right;\">\n",
       "      <th></th>\n",
       "      <th>x_i</th>\n",
       "      <th>y_i</th>\n",
       "      <th>h_i</th>\n",
       "      <th>A</th>\n",
       "      <th>B</th>\n",
       "      <th>C</th>\n",
       "      <th>D</th>\n",
       "      <th>F</th>\n",
       "      <th>k</th>\n",
       "      <th>n</th>\n",
       "    </tr>\n",
       "  </thead>\n",
       "  <tbody>\n",
       "    <tr>\n",
       "      <th>0</th>\n",
       "      <td>NaN</td>\n",
       "      <td>NaN</td>\n",
       "      <td>NaN</td>\n",
       "      <td>NaN</td>\n",
       "      <td>NaN</td>\n",
       "      <td>0.000000</td>\n",
       "      <td>NaN</td>\n",
       "      <td>NaN</td>\n",
       "      <td>NaN</td>\n",
       "      <td>NaN</td>\n",
       "    </tr>\n",
       "    <tr>\n",
       "      <th>1</th>\n",
       "      <td>1.0</td>\n",
       "      <td>0.841471</td>\n",
       "      <td>2.0</td>\n",
       "      <td>0.841471</td>\n",
       "      <td>-0.105445</td>\n",
       "      <td>0.000000</td>\n",
       "      <td>-0.061183</td>\n",
       "      <td>NaN</td>\n",
       "      <td>NaN</td>\n",
       "      <td>NaN</td>\n",
       "    </tr>\n",
       "    <tr>\n",
       "      <th>2</th>\n",
       "      <td>3.0</td>\n",
       "      <td>0.141120</td>\n",
       "      <td>1.0</td>\n",
       "      <td>0.141120</td>\n",
       "      <td>-0.839636</td>\n",
       "      <td>-0.367095</td>\n",
       "      <td>0.308809</td>\n",
       "      <td>1.643241</td>\n",
       "      <td>0.000000</td>\n",
       "      <td>0.000000</td>\n",
       "    </tr>\n",
       "    <tr>\n",
       "      <th>3</th>\n",
       "      <td>4.0</td>\n",
       "      <td>-0.756802</td>\n",
       "      <td>3.0</td>\n",
       "      <td>-0.756802</td>\n",
       "      <td>-0.647400</td>\n",
       "      <td>0.559332</td>\n",
       "      <td>-0.062148</td>\n",
       "      <td>-4.107557</td>\n",
       "      <td>-0.166667</td>\n",
       "      <td>-0.273874</td>\n",
       "    </tr>\n",
       "    <tr>\n",
       "      <th>4</th>\n",
       "      <td>NaN</td>\n",
       "      <td>NaN</td>\n",
       "      <td>NaN</td>\n",
       "      <td>NaN</td>\n",
       "      <td>NaN</td>\n",
       "      <td>0.000000</td>\n",
       "      <td>NaN</td>\n",
       "      <td>NaN</td>\n",
       "      <td>-0.382979</td>\n",
       "      <td>0.559332</td>\n",
       "    </tr>\n",
       "  </tbody>\n",
       "</table>\n",
       "</div>"
      ]
     },
     "execution_count": 24,
     "metadata": {},
     "output_type": "execute_result"
    }
   ],
   "execution_count": 24
  },
  {
   "metadata": {
    "ExecuteTime": {
     "end_time": "2025-03-05T17:43:05.751253Z",
     "start_time": "2025-03-05T17:43:05.748576Z"
    }
   },
   "cell_type": "code",
   "source": "",
   "id": "e8e94aa95ee178f5",
   "outputs": [],
   "execution_count": 24
  }
 ],
 "metadata": {
  "kernelspec": {
   "display_name": "Python 3",
   "language": "python",
   "name": "python3"
  },
  "language_info": {
   "codemirror_mode": {
    "name": "ipython",
    "version": 2
   },
   "file_extension": ".py",
   "mimetype": "text/x-python",
   "name": "python",
   "nbconvert_exporter": "python",
   "pygments_lexer": "ipython2",
   "version": "2.7.6"
  }
 },
 "nbformat": 4,
 "nbformat_minor": 5
}
