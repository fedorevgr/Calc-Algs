{
 "cells": [
  {
   "metadata": {},
   "cell_type": "code",
   "source": [
    "from matplotlib import pyplot as plt\n",
    "from pandas import DataFrame\n",
    "from src.Math.Spline import SplineInterpolation\n",
    "from numpy import linspace, sin"
   ],
   "id": "5f308eac63ee1569",
   "outputs": [],
   "execution_count": null
  },
  {
   "metadata": {},
   "cell_type": "code",
   "source": "func = lambda x: x**2",
   "id": "2b7f51c0a6bdbc44",
   "outputs": [],
   "execution_count": null
  },
  {
   "metadata": {},
   "cell_type": "code",
   "source": [
    "LEFT = 0\n",
    "RIGHT = 5"
   ],
   "id": "117bbd22c70800c3",
   "outputs": [],
   "execution_count": null
  },
  {
   "metadata": {},
   "cell_type": "code",
   "source": [
    "TEST_SEG = 6\n",
    "\n",
    "X = linspace(LEFT, RIGHT, TEST_SEG)\n",
    "srcData = {\n",
    "    \"x\": X,\n",
    "    \"y\": list(map(func, X))\n",
    "}\n",
    "\n",
    "data = DataFrame(srcData)"
   ],
   "id": "ce3861ffa8ab1ad7",
   "outputs": [],
   "execution_count": null
  },
  {
   "metadata": {},
   "cell_type": "code",
   "source": "spline = SplineInterpolation(data)",
   "id": "d462981ce7c1f578",
   "outputs": [],
   "execution_count": null
  },
  {
   "metadata": {},
   "cell_type": "code",
   "source": [
    "X = linspace(LEFT, RIGHT, 200)\n",
    "Y = list(map(spline, X))"
   ],
   "id": "7a6d5c05953b396d",
   "outputs": [],
   "execution_count": null
  },
  {
   "metadata": {},
   "cell_type": "code",
   "source": [
    "plt.plot(X, Y)\n",
    "plt.scatter(data[\"x\"], data[\"y\"])\n",
    "plt.show()"
   ],
   "id": "8013c73b14b31f83",
   "outputs": [],
   "execution_count": null
  },
  {
   "metadata": {},
   "cell_type": "code",
   "source": "",
   "id": "2b8fcb6b62d994ef",
   "outputs": [],
   "execution_count": null
  }
 ],
 "metadata": {
  "kernelspec": {
   "display_name": "Python 3",
   "language": "python",
   "name": "python3"
  },
  "language_info": {
   "codemirror_mode": {
    "name": "ipython",
    "version": 2
   },
   "file_extension": ".py",
   "mimetype": "text/x-python",
   "name": "python",
   "nbconvert_exporter": "python",
   "pygments_lexer": "ipython2",
   "version": "2.7.6"
  }
 },
 "nbformat": 4,
 "nbformat_minor": 5
}
